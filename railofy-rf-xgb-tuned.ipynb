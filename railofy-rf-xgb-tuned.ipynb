{
  "cells": [
    {
      "cell_type": "markdown",
      "metadata": {
        "id": "view-in-github",
        "colab_type": "text"
      },
      "source": [
        "<a href=\"https://colab.research.google.com/github/Sayak-kgl/Railofy/blob/main/railofy-rf-xgb-tuned.ipynb\" target=\"_parent\"><img src=\"https://colab.research.google.com/assets/colab-badge.svg\" alt=\"Open In Colab\"/></a>"
      ]
    },
    {
      "cell_type": "markdown",
      "source": [
        "# Kaggle Authentication"
      ],
      "metadata": {
        "id": "PznYGLGnlpPo"
      },
      "id": "PznYGLGnlpPo"
    },
    {
      "cell_type": "code",
      "source": [
        "# Access to Google Drive\n",
        "from google.colab import drive\n",
        "drive.mount('/content/drive')\n",
        "\n",
        "# Make directory\n",
        "!mkdir ~/.kaggle\n",
        "\n",
        "# Copy the kaggle.json API token to above directory\n",
        "!cp /content/drive/MyDrive/ColabNotebooks/kaggle.json ~/.kaggle/kaggle.json\n",
        "\n",
        "# Change permissions\n",
        "!chmod 600 ~/.kaggle/kaggle.json"
      ],
      "metadata": {
        "id": "GukuaRislYOA"
      },
      "id": "GukuaRislYOA",
      "execution_count": null,
      "outputs": []
    },
    {
      "cell_type": "code",
      "source": [
        "#Downloading competition data\n",
        "!kaggle competitions download -c railofy-challenge\n",
        "\n",
        "# Extracting datasets\n",
        "!unzip railofy-challenge.zip"
      ],
      "metadata": {
        "id": "ZzWatiIGmVYR",
        "outputId": "d77616af-2a86-44f6-bcd4-2c31561cb472",
        "colab": {
          "base_uri": "https://localhost:8080/"
        }
      },
      "id": "ZzWatiIGmVYR",
      "execution_count": 2,
      "outputs": [
        {
          "output_type": "stream",
          "name": "stdout",
          "text": [
            "Downloading railofy-challenge.zip to /content\n",
            "\r  0% 0.00/2.33M [00:00<?, ?B/s]\n",
            "\r100% 2.33M/2.33M [00:00<00:00, 257MB/s]\n",
            "Archive:  railofy-challenge.zip\n",
            "  inflating: Railofy_testing_data_for_model.csv  \n",
            "  inflating: Railofy_training_data_for_model.csv  \n",
            "  inflating: sample_submission.csv   \n"
          ]
        }
      ]
    },
    {
      "cell_type": "markdown",
      "metadata": {
        "papermill": {
          "duration": 0.011517,
          "end_time": "2022-08-07T07:50:44.019713",
          "exception": false,
          "start_time": "2022-08-07T07:50:44.008196",
          "status": "completed"
        },
        "tags": [],
        "id": "FMk-Nf4ElO5I"
      },
      "source": [
        "# **Importing Libraries**"
      ],
      "id": "FMk-Nf4ElO5I"
    },
    {
      "cell_type": "code",
      "execution_count": 4,
      "metadata": {
        "execution": {
          "iopub.execute_input": "2022-08-07T07:50:44.041715Z",
          "iopub.status.busy": "2022-08-07T07:50:44.041148Z",
          "iopub.status.idle": "2022-08-07T07:50:45.387509Z",
          "shell.execute_reply": "2022-08-07T07:50:45.386824Z"
        },
        "papermill": {
          "duration": 1.359937,
          "end_time": "2022-08-07T07:50:45.389689",
          "exception": false,
          "start_time": "2022-08-07T07:50:44.029752",
          "status": "completed"
        },
        "tags": [],
        "id": "o3PPtRUvlO5L"
      },
      "outputs": [],
      "source": [
        "import time\n",
        "import pandas as pd\n",
        "import numpy as np\n",
        "import matplotlib.pyplot as plt\n",
        "import seaborn as sns\n",
        "\n",
        "from sklearn.model_selection import train_test_split\n",
        "from sklearn.linear_model import LogisticRegression\n",
        "from sklearn.svm import SVC\n",
        "from sklearn.ensemble import RandomForestClassifier\n",
        "from xgboost import XGBClassifier\n",
        "from sklearn.metrics import accuracy_score, classification_report\n",
        "from sklearn.model_selection import GridSearchCV\n",
        "from sklearn.model_selection import cross_val_score\n",
        "from sklearn.model_selection import RandomizedSearchCV \n",
        "from sklearn import preprocessing\n",
        "\n",
        "import warnings\n",
        "warnings.filterwarnings('ignore')\n",
        "%matplotlib inline"
      ],
      "id": "o3PPtRUvlO5L"
    },
    {
      "cell_type": "markdown",
      "metadata": {
        "papermill": {
          "duration": 0.010896,
          "end_time": "2022-08-07T07:50:45.411121",
          "exception": false,
          "start_time": "2022-08-07T07:50:45.400225",
          "status": "completed"
        },
        "tags": [],
        "id": "x_6jycl8lO5M"
      },
      "source": [
        "# **Loading Datasets**"
      ],
      "id": "x_6jycl8lO5M"
    },
    {
      "cell_type": "markdown",
      "metadata": {
        "papermill": {
          "duration": 0.010281,
          "end_time": "2022-08-07T07:50:45.432011",
          "exception": false,
          "start_time": "2022-08-07T07:50:45.421730",
          "status": "completed"
        },
        "tags": [],
        "id": "nUoE7usmlO5M"
      },
      "source": [
        "## Train"
      ],
      "id": "nUoE7usmlO5M"
    },
    {
      "cell_type": "code",
      "execution_count": 5,
      "metadata": {
        "execution": {
          "iopub.execute_input": "2022-08-07T07:50:45.454507Z",
          "iopub.status.busy": "2022-08-07T07:50:45.453400Z",
          "iopub.status.idle": "2022-08-07T07:50:45.679032Z",
          "shell.execute_reply": "2022-08-07T07:50:45.677731Z"
        },
        "papermill": {
          "duration": 0.239002,
          "end_time": "2022-08-07T07:50:45.681145",
          "exception": false,
          "start_time": "2022-08-07T07:50:45.442143",
          "status": "completed"
        },
        "tags": [],
        "id": "7u5j0I1clO5N",
        "outputId": "e4945ff5-dd06-469f-85d5-0797369fb917",
        "colab": {
          "base_uri": "https://localhost:8080/",
          "height": 317
        }
      },
      "outputs": [
        {
          "output_type": "stream",
          "name": "stdout",
          "text": [
            "(36775, 25)\n"
          ]
        },
        {
          "output_type": "execute_result",
          "data": {
            "text/plain": [
              "            pk  QT      GRCA       CCA        JD       ODD        JS  \\\n",
              "0  88315053602  GN  1.400436  0.610522  0.667146  0.930870  0.709433   \n",
              "1  88315053603  GN  1.400436  0.610522  0.667146  0.930870  0.709433   \n",
              "2  88314793081  GN  0.728882  0.524062  1.365898  0.885873  1.463205   \n",
              "3  88312760631  GN  5.000000  5.000000  0.298977  0.764192  0.354716   \n",
              "4  88312449843  GN  0.614226  0.389327  0.699606  0.917133  1.108489   \n",
              "\n",
              "        ODS  SL      NDTD  ...       GRA      CURA       RPW      CUCA  \\\n",
              "0  0.800000   1  0.016290  ...  1.341754  1.820791  0.280196 -0.007556   \n",
              "1  0.800000   1  0.024623  ...  1.999409  3.810137  0.276128 -0.007556   \n",
              "2  0.767442   0  0.004357  ...  0.618700  0.742814  0.278101  0.435419   \n",
              "3  0.800000   0  0.003798  ...  1.117669  1.079367  0.266220  0.091167   \n",
              "4  0.862069   1  0.024571  ...  4.393867  5.000000  0.277710  2.103696   \n",
              "\n",
              "        CAR  BKT_2  CL_1  CL_2  CL_3  target  \n",
              "0  1.091054      0     0     1     0       0  \n",
              "1  1.143376      0     0     1     0       0  \n",
              "2  5.000000      0     0     0     0       0  \n",
              "3  5.000000      1     0     0     0       1  \n",
              "4  1.454895      1     0     1     0       0  \n",
              "\n",
              "[5 rows x 25 columns]"
            ],
            "text/html": [
              "\n",
              "  <div id=\"df-b11d023d-160f-4305-b309-abfb6b34c040\">\n",
              "    <div class=\"colab-df-container\">\n",
              "      <div>\n",
              "<style scoped>\n",
              "    .dataframe tbody tr th:only-of-type {\n",
              "        vertical-align: middle;\n",
              "    }\n",
              "\n",
              "    .dataframe tbody tr th {\n",
              "        vertical-align: top;\n",
              "    }\n",
              "\n",
              "    .dataframe thead th {\n",
              "        text-align: right;\n",
              "    }\n",
              "</style>\n",
              "<table border=\"1\" class=\"dataframe\">\n",
              "  <thead>\n",
              "    <tr style=\"text-align: right;\">\n",
              "      <th></th>\n",
              "      <th>pk</th>\n",
              "      <th>QT</th>\n",
              "      <th>GRCA</th>\n",
              "      <th>CCA</th>\n",
              "      <th>JD</th>\n",
              "      <th>ODD</th>\n",
              "      <th>JS</th>\n",
              "      <th>ODS</th>\n",
              "      <th>SL</th>\n",
              "      <th>NDTD</th>\n",
              "      <th>...</th>\n",
              "      <th>GRA</th>\n",
              "      <th>CURA</th>\n",
              "      <th>RPW</th>\n",
              "      <th>CUCA</th>\n",
              "      <th>CAR</th>\n",
              "      <th>BKT_2</th>\n",
              "      <th>CL_1</th>\n",
              "      <th>CL_2</th>\n",
              "      <th>CL_3</th>\n",
              "      <th>target</th>\n",
              "    </tr>\n",
              "  </thead>\n",
              "  <tbody>\n",
              "    <tr>\n",
              "      <th>0</th>\n",
              "      <td>88315053602</td>\n",
              "      <td>GN</td>\n",
              "      <td>1.400436</td>\n",
              "      <td>0.610522</td>\n",
              "      <td>0.667146</td>\n",
              "      <td>0.930870</td>\n",
              "      <td>0.709433</td>\n",
              "      <td>0.800000</td>\n",
              "      <td>1</td>\n",
              "      <td>0.016290</td>\n",
              "      <td>...</td>\n",
              "      <td>1.341754</td>\n",
              "      <td>1.820791</td>\n",
              "      <td>0.280196</td>\n",
              "      <td>-0.007556</td>\n",
              "      <td>1.091054</td>\n",
              "      <td>0</td>\n",
              "      <td>0</td>\n",
              "      <td>1</td>\n",
              "      <td>0</td>\n",
              "      <td>0</td>\n",
              "    </tr>\n",
              "    <tr>\n",
              "      <th>1</th>\n",
              "      <td>88315053603</td>\n",
              "      <td>GN</td>\n",
              "      <td>1.400436</td>\n",
              "      <td>0.610522</td>\n",
              "      <td>0.667146</td>\n",
              "      <td>0.930870</td>\n",
              "      <td>0.709433</td>\n",
              "      <td>0.800000</td>\n",
              "      <td>1</td>\n",
              "      <td>0.024623</td>\n",
              "      <td>...</td>\n",
              "      <td>1.999409</td>\n",
              "      <td>3.810137</td>\n",
              "      <td>0.276128</td>\n",
              "      <td>-0.007556</td>\n",
              "      <td>1.143376</td>\n",
              "      <td>0</td>\n",
              "      <td>0</td>\n",
              "      <td>1</td>\n",
              "      <td>0</td>\n",
              "      <td>0</td>\n",
              "    </tr>\n",
              "    <tr>\n",
              "      <th>2</th>\n",
              "      <td>88314793081</td>\n",
              "      <td>GN</td>\n",
              "      <td>0.728882</td>\n",
              "      <td>0.524062</td>\n",
              "      <td>1.365898</td>\n",
              "      <td>0.885873</td>\n",
              "      <td>1.463205</td>\n",
              "      <td>0.767442</td>\n",
              "      <td>0</td>\n",
              "      <td>0.004357</td>\n",
              "      <td>...</td>\n",
              "      <td>0.618700</td>\n",
              "      <td>0.742814</td>\n",
              "      <td>0.278101</td>\n",
              "      <td>0.435419</td>\n",
              "      <td>5.000000</td>\n",
              "      <td>0</td>\n",
              "      <td>0</td>\n",
              "      <td>0</td>\n",
              "      <td>0</td>\n",
              "      <td>0</td>\n",
              "    </tr>\n",
              "    <tr>\n",
              "      <th>3</th>\n",
              "      <td>88312760631</td>\n",
              "      <td>GN</td>\n",
              "      <td>5.000000</td>\n",
              "      <td>5.000000</td>\n",
              "      <td>0.298977</td>\n",
              "      <td>0.764192</td>\n",
              "      <td>0.354716</td>\n",
              "      <td>0.800000</td>\n",
              "      <td>0</td>\n",
              "      <td>0.003798</td>\n",
              "      <td>...</td>\n",
              "      <td>1.117669</td>\n",
              "      <td>1.079367</td>\n",
              "      <td>0.266220</td>\n",
              "      <td>0.091167</td>\n",
              "      <td>5.000000</td>\n",
              "      <td>1</td>\n",
              "      <td>0</td>\n",
              "      <td>0</td>\n",
              "      <td>0</td>\n",
              "      <td>1</td>\n",
              "    </tr>\n",
              "    <tr>\n",
              "      <th>4</th>\n",
              "      <td>88312449843</td>\n",
              "      <td>GN</td>\n",
              "      <td>0.614226</td>\n",
              "      <td>0.389327</td>\n",
              "      <td>0.699606</td>\n",
              "      <td>0.917133</td>\n",
              "      <td>1.108489</td>\n",
              "      <td>0.862069</td>\n",
              "      <td>1</td>\n",
              "      <td>0.024571</td>\n",
              "      <td>...</td>\n",
              "      <td>4.393867</td>\n",
              "      <td>5.000000</td>\n",
              "      <td>0.277710</td>\n",
              "      <td>2.103696</td>\n",
              "      <td>1.454895</td>\n",
              "      <td>1</td>\n",
              "      <td>0</td>\n",
              "      <td>1</td>\n",
              "      <td>0</td>\n",
              "      <td>0</td>\n",
              "    </tr>\n",
              "  </tbody>\n",
              "</table>\n",
              "<p>5 rows × 25 columns</p>\n",
              "</div>\n",
              "      <button class=\"colab-df-convert\" onclick=\"convertToInteractive('df-b11d023d-160f-4305-b309-abfb6b34c040')\"\n",
              "              title=\"Convert this dataframe to an interactive table.\"\n",
              "              style=\"display:none;\">\n",
              "        \n",
              "  <svg xmlns=\"http://www.w3.org/2000/svg\" height=\"24px\"viewBox=\"0 0 24 24\"\n",
              "       width=\"24px\">\n",
              "    <path d=\"M0 0h24v24H0V0z\" fill=\"none\"/>\n",
              "    <path d=\"M18.56 5.44l.94 2.06.94-2.06 2.06-.94-2.06-.94-.94-2.06-.94 2.06-2.06.94zm-11 1L8.5 8.5l.94-2.06 2.06-.94-2.06-.94L8.5 2.5l-.94 2.06-2.06.94zm10 10l.94 2.06.94-2.06 2.06-.94-2.06-.94-.94-2.06-.94 2.06-2.06.94z\"/><path d=\"M17.41 7.96l-1.37-1.37c-.4-.4-.92-.59-1.43-.59-.52 0-1.04.2-1.43.59L10.3 9.45l-7.72 7.72c-.78.78-.78 2.05 0 2.83L4 21.41c.39.39.9.59 1.41.59.51 0 1.02-.2 1.41-.59l7.78-7.78 2.81-2.81c.8-.78.8-2.07 0-2.86zM5.41 20L4 18.59l7.72-7.72 1.47 1.35L5.41 20z\"/>\n",
              "  </svg>\n",
              "      </button>\n",
              "      \n",
              "  <style>\n",
              "    .colab-df-container {\n",
              "      display:flex;\n",
              "      flex-wrap:wrap;\n",
              "      gap: 12px;\n",
              "    }\n",
              "\n",
              "    .colab-df-convert {\n",
              "      background-color: #E8F0FE;\n",
              "      border: none;\n",
              "      border-radius: 50%;\n",
              "      cursor: pointer;\n",
              "      display: none;\n",
              "      fill: #1967D2;\n",
              "      height: 32px;\n",
              "      padding: 0 0 0 0;\n",
              "      width: 32px;\n",
              "    }\n",
              "\n",
              "    .colab-df-convert:hover {\n",
              "      background-color: #E2EBFA;\n",
              "      box-shadow: 0px 1px 2px rgba(60, 64, 67, 0.3), 0px 1px 3px 1px rgba(60, 64, 67, 0.15);\n",
              "      fill: #174EA6;\n",
              "    }\n",
              "\n",
              "    [theme=dark] .colab-df-convert {\n",
              "      background-color: #3B4455;\n",
              "      fill: #D2E3FC;\n",
              "    }\n",
              "\n",
              "    [theme=dark] .colab-df-convert:hover {\n",
              "      background-color: #434B5C;\n",
              "      box-shadow: 0px 1px 3px 1px rgba(0, 0, 0, 0.15);\n",
              "      filter: drop-shadow(0px 1px 2px rgba(0, 0, 0, 0.3));\n",
              "      fill: #FFFFFF;\n",
              "    }\n",
              "  </style>\n",
              "\n",
              "      <script>\n",
              "        const buttonEl =\n",
              "          document.querySelector('#df-b11d023d-160f-4305-b309-abfb6b34c040 button.colab-df-convert');\n",
              "        buttonEl.style.display =\n",
              "          google.colab.kernel.accessAllowed ? 'block' : 'none';\n",
              "\n",
              "        async function convertToInteractive(key) {\n",
              "          const element = document.querySelector('#df-b11d023d-160f-4305-b309-abfb6b34c040');\n",
              "          const dataTable =\n",
              "            await google.colab.kernel.invokeFunction('convertToInteractive',\n",
              "                                                     [key], {});\n",
              "          if (!dataTable) return;\n",
              "\n",
              "          const docLinkHtml = 'Like what you see? Visit the ' +\n",
              "            '<a target=\"_blank\" href=https://colab.research.google.com/notebooks/data_table.ipynb>data table notebook</a>'\n",
              "            + ' to learn more about interactive tables.';\n",
              "          element.innerHTML = '';\n",
              "          dataTable['output_type'] = 'display_data';\n",
              "          await google.colab.output.renderOutput(dataTable, element);\n",
              "          const docLink = document.createElement('div');\n",
              "          docLink.innerHTML = docLinkHtml;\n",
              "          element.appendChild(docLink);\n",
              "        }\n",
              "      </script>\n",
              "    </div>\n",
              "  </div>\n",
              "  "
            ]
          },
          "metadata": {},
          "execution_count": 5
        }
      ],
      "source": [
        "train_df = pd.read_csv(\"Railofy_training_data_for_model.csv\")\n",
        "print(train_df.shape)\n",
        "train_df.head()"
      ],
      "id": "7u5j0I1clO5N"
    },
    {
      "cell_type": "markdown",
      "metadata": {
        "papermill": {
          "duration": 0.010333,
          "end_time": "2022-08-07T07:50:45.702427",
          "exception": false,
          "start_time": "2022-08-07T07:50:45.692094",
          "status": "completed"
        },
        "tags": [],
        "id": "6cVkAncKlO5N"
      },
      "source": [
        "## Test"
      ],
      "id": "6cVkAncKlO5N"
    },
    {
      "cell_type": "code",
      "execution_count": 6,
      "metadata": {
        "execution": {
          "iopub.execute_input": "2022-08-07T07:50:45.725229Z",
          "iopub.status.busy": "2022-08-07T07:50:45.724940Z",
          "iopub.status.idle": "2022-08-07T07:50:45.771995Z",
          "shell.execute_reply": "2022-08-07T07:50:45.770946Z"
        },
        "papermill": {
          "duration": 0.060441,
          "end_time": "2022-08-07T07:50:45.773715",
          "exception": false,
          "start_time": "2022-08-07T07:50:45.713274",
          "status": "completed"
        },
        "tags": [],
        "id": "dJYP9csmlO5O",
        "outputId": "529d5bae-0e44-49fc-99cf-52ddd3fd5383",
        "colab": {
          "base_uri": "https://localhost:8080/",
          "height": 317
        }
      },
      "outputs": [
        {
          "output_type": "stream",
          "name": "stdout",
          "text": [
            "(3847, 24)\n"
          ]
        },
        {
          "output_type": "execute_result",
          "data": {
            "text/plain": [
              "           pk  QT      GRCA       CCA        JD       ODD        JS       ODS  \\\n",
              "0  8831606085  GN  0.065517  0.041589  1.614476  1.000000  1.773582  0.975610   \n",
              "1  8831561565  GN  2.710786  1.658815  0.927683  0.836028  0.665093  0.681818   \n",
              "2  8831539811  GN  3.365960  1.514607  1.546139  0.961232  1.418866  0.888889   \n",
              "3  8831313791  GN  2.342250  1.277346  0.990041  1.000000  0.842451  0.950000   \n",
              "4  8831070109  GN  0.139225  0.054502  1.575182  0.817376  2.571694  0.773333   \n",
              "\n",
              "   SL      NDTD  ...      SCRA       GRA      CURA       RPW      CUCA  \\\n",
              "0   1  0.008326  ...  0.058562  0.705277  1.457012  0.280196  1.335478   \n",
              "1   1  0.013590  ...  0.119819 -0.323278 -0.195543  0.276128 -0.537617   \n",
              "2   1  0.008322  ...  0.200964  0.305956  0.328951  0.276128 -0.093347   \n",
              "3   1  0.007728  ...  1.082519  0.446952  0.494185  0.271758  0.069792   \n",
              "4   1  0.024999  ...  1.975081  3.847262  3.497138  0.267730  1.296174   \n",
              "\n",
              "        CAR  BKT_2  CL_1  CL_2  CL_3  \n",
              "0  1.692308      0     0     0     1  \n",
              "1  1.629686      0     1     0     0  \n",
              "2  1.116554      0     1     0     0  \n",
              "3  1.442885      0     1     0     0  \n",
              "4  1.372434      0     0     1     0  \n",
              "\n",
              "[5 rows x 24 columns]"
            ],
            "text/html": [
              "\n",
              "  <div id=\"df-5ff84ccf-b968-42ba-b267-63c90a56916e\">\n",
              "    <div class=\"colab-df-container\">\n",
              "      <div>\n",
              "<style scoped>\n",
              "    .dataframe tbody tr th:only-of-type {\n",
              "        vertical-align: middle;\n",
              "    }\n",
              "\n",
              "    .dataframe tbody tr th {\n",
              "        vertical-align: top;\n",
              "    }\n",
              "\n",
              "    .dataframe thead th {\n",
              "        text-align: right;\n",
              "    }\n",
              "</style>\n",
              "<table border=\"1\" class=\"dataframe\">\n",
              "  <thead>\n",
              "    <tr style=\"text-align: right;\">\n",
              "      <th></th>\n",
              "      <th>pk</th>\n",
              "      <th>QT</th>\n",
              "      <th>GRCA</th>\n",
              "      <th>CCA</th>\n",
              "      <th>JD</th>\n",
              "      <th>ODD</th>\n",
              "      <th>JS</th>\n",
              "      <th>ODS</th>\n",
              "      <th>SL</th>\n",
              "      <th>NDTD</th>\n",
              "      <th>...</th>\n",
              "      <th>SCRA</th>\n",
              "      <th>GRA</th>\n",
              "      <th>CURA</th>\n",
              "      <th>RPW</th>\n",
              "      <th>CUCA</th>\n",
              "      <th>CAR</th>\n",
              "      <th>BKT_2</th>\n",
              "      <th>CL_1</th>\n",
              "      <th>CL_2</th>\n",
              "      <th>CL_3</th>\n",
              "    </tr>\n",
              "  </thead>\n",
              "  <tbody>\n",
              "    <tr>\n",
              "      <th>0</th>\n",
              "      <td>8831606085</td>\n",
              "      <td>GN</td>\n",
              "      <td>0.065517</td>\n",
              "      <td>0.041589</td>\n",
              "      <td>1.614476</td>\n",
              "      <td>1.000000</td>\n",
              "      <td>1.773582</td>\n",
              "      <td>0.975610</td>\n",
              "      <td>1</td>\n",
              "      <td>0.008326</td>\n",
              "      <td>...</td>\n",
              "      <td>0.058562</td>\n",
              "      <td>0.705277</td>\n",
              "      <td>1.457012</td>\n",
              "      <td>0.280196</td>\n",
              "      <td>1.335478</td>\n",
              "      <td>1.692308</td>\n",
              "      <td>0</td>\n",
              "      <td>0</td>\n",
              "      <td>0</td>\n",
              "      <td>1</td>\n",
              "    </tr>\n",
              "    <tr>\n",
              "      <th>1</th>\n",
              "      <td>8831561565</td>\n",
              "      <td>GN</td>\n",
              "      <td>2.710786</td>\n",
              "      <td>1.658815</td>\n",
              "      <td>0.927683</td>\n",
              "      <td>0.836028</td>\n",
              "      <td>0.665093</td>\n",
              "      <td>0.681818</td>\n",
              "      <td>1</td>\n",
              "      <td>0.013590</td>\n",
              "      <td>...</td>\n",
              "      <td>0.119819</td>\n",
              "      <td>-0.323278</td>\n",
              "      <td>-0.195543</td>\n",
              "      <td>0.276128</td>\n",
              "      <td>-0.537617</td>\n",
              "      <td>1.629686</td>\n",
              "      <td>0</td>\n",
              "      <td>1</td>\n",
              "      <td>0</td>\n",
              "      <td>0</td>\n",
              "    </tr>\n",
              "    <tr>\n",
              "      <th>2</th>\n",
              "      <td>8831539811</td>\n",
              "      <td>GN</td>\n",
              "      <td>3.365960</td>\n",
              "      <td>1.514607</td>\n",
              "      <td>1.546139</td>\n",
              "      <td>0.961232</td>\n",
              "      <td>1.418866</td>\n",
              "      <td>0.888889</td>\n",
              "      <td>1</td>\n",
              "      <td>0.008322</td>\n",
              "      <td>...</td>\n",
              "      <td>0.200964</td>\n",
              "      <td>0.305956</td>\n",
              "      <td>0.328951</td>\n",
              "      <td>0.276128</td>\n",
              "      <td>-0.093347</td>\n",
              "      <td>1.116554</td>\n",
              "      <td>0</td>\n",
              "      <td>1</td>\n",
              "      <td>0</td>\n",
              "      <td>0</td>\n",
              "    </tr>\n",
              "    <tr>\n",
              "      <th>3</th>\n",
              "      <td>8831313791</td>\n",
              "      <td>GN</td>\n",
              "      <td>2.342250</td>\n",
              "      <td>1.277346</td>\n",
              "      <td>0.990041</td>\n",
              "      <td>1.000000</td>\n",
              "      <td>0.842451</td>\n",
              "      <td>0.950000</td>\n",
              "      <td>1</td>\n",
              "      <td>0.007728</td>\n",
              "      <td>...</td>\n",
              "      <td>1.082519</td>\n",
              "      <td>0.446952</td>\n",
              "      <td>0.494185</td>\n",
              "      <td>0.271758</td>\n",
              "      <td>0.069792</td>\n",
              "      <td>1.442885</td>\n",
              "      <td>0</td>\n",
              "      <td>1</td>\n",
              "      <td>0</td>\n",
              "      <td>0</td>\n",
              "    </tr>\n",
              "    <tr>\n",
              "      <th>4</th>\n",
              "      <td>8831070109</td>\n",
              "      <td>GN</td>\n",
              "      <td>0.139225</td>\n",
              "      <td>0.054502</td>\n",
              "      <td>1.575182</td>\n",
              "      <td>0.817376</td>\n",
              "      <td>2.571694</td>\n",
              "      <td>0.773333</td>\n",
              "      <td>1</td>\n",
              "      <td>0.024999</td>\n",
              "      <td>...</td>\n",
              "      <td>1.975081</td>\n",
              "      <td>3.847262</td>\n",
              "      <td>3.497138</td>\n",
              "      <td>0.267730</td>\n",
              "      <td>1.296174</td>\n",
              "      <td>1.372434</td>\n",
              "      <td>0</td>\n",
              "      <td>0</td>\n",
              "      <td>1</td>\n",
              "      <td>0</td>\n",
              "    </tr>\n",
              "  </tbody>\n",
              "</table>\n",
              "<p>5 rows × 24 columns</p>\n",
              "</div>\n",
              "      <button class=\"colab-df-convert\" onclick=\"convertToInteractive('df-5ff84ccf-b968-42ba-b267-63c90a56916e')\"\n",
              "              title=\"Convert this dataframe to an interactive table.\"\n",
              "              style=\"display:none;\">\n",
              "        \n",
              "  <svg xmlns=\"http://www.w3.org/2000/svg\" height=\"24px\"viewBox=\"0 0 24 24\"\n",
              "       width=\"24px\">\n",
              "    <path d=\"M0 0h24v24H0V0z\" fill=\"none\"/>\n",
              "    <path d=\"M18.56 5.44l.94 2.06.94-2.06 2.06-.94-2.06-.94-.94-2.06-.94 2.06-2.06.94zm-11 1L8.5 8.5l.94-2.06 2.06-.94-2.06-.94L8.5 2.5l-.94 2.06-2.06.94zm10 10l.94 2.06.94-2.06 2.06-.94-2.06-.94-.94-2.06-.94 2.06-2.06.94z\"/><path d=\"M17.41 7.96l-1.37-1.37c-.4-.4-.92-.59-1.43-.59-.52 0-1.04.2-1.43.59L10.3 9.45l-7.72 7.72c-.78.78-.78 2.05 0 2.83L4 21.41c.39.39.9.59 1.41.59.51 0 1.02-.2 1.41-.59l7.78-7.78 2.81-2.81c.8-.78.8-2.07 0-2.86zM5.41 20L4 18.59l7.72-7.72 1.47 1.35L5.41 20z\"/>\n",
              "  </svg>\n",
              "      </button>\n",
              "      \n",
              "  <style>\n",
              "    .colab-df-container {\n",
              "      display:flex;\n",
              "      flex-wrap:wrap;\n",
              "      gap: 12px;\n",
              "    }\n",
              "\n",
              "    .colab-df-convert {\n",
              "      background-color: #E8F0FE;\n",
              "      border: none;\n",
              "      border-radius: 50%;\n",
              "      cursor: pointer;\n",
              "      display: none;\n",
              "      fill: #1967D2;\n",
              "      height: 32px;\n",
              "      padding: 0 0 0 0;\n",
              "      width: 32px;\n",
              "    }\n",
              "\n",
              "    .colab-df-convert:hover {\n",
              "      background-color: #E2EBFA;\n",
              "      box-shadow: 0px 1px 2px rgba(60, 64, 67, 0.3), 0px 1px 3px 1px rgba(60, 64, 67, 0.15);\n",
              "      fill: #174EA6;\n",
              "    }\n",
              "\n",
              "    [theme=dark] .colab-df-convert {\n",
              "      background-color: #3B4455;\n",
              "      fill: #D2E3FC;\n",
              "    }\n",
              "\n",
              "    [theme=dark] .colab-df-convert:hover {\n",
              "      background-color: #434B5C;\n",
              "      box-shadow: 0px 1px 3px 1px rgba(0, 0, 0, 0.15);\n",
              "      filter: drop-shadow(0px 1px 2px rgba(0, 0, 0, 0.3));\n",
              "      fill: #FFFFFF;\n",
              "    }\n",
              "  </style>\n",
              "\n",
              "      <script>\n",
              "        const buttonEl =\n",
              "          document.querySelector('#df-5ff84ccf-b968-42ba-b267-63c90a56916e button.colab-df-convert');\n",
              "        buttonEl.style.display =\n",
              "          google.colab.kernel.accessAllowed ? 'block' : 'none';\n",
              "\n",
              "        async function convertToInteractive(key) {\n",
              "          const element = document.querySelector('#df-5ff84ccf-b968-42ba-b267-63c90a56916e');\n",
              "          const dataTable =\n",
              "            await google.colab.kernel.invokeFunction('convertToInteractive',\n",
              "                                                     [key], {});\n",
              "          if (!dataTable) return;\n",
              "\n",
              "          const docLinkHtml = 'Like what you see? Visit the ' +\n",
              "            '<a target=\"_blank\" href=https://colab.research.google.com/notebooks/data_table.ipynb>data table notebook</a>'\n",
              "            + ' to learn more about interactive tables.';\n",
              "          element.innerHTML = '';\n",
              "          dataTable['output_type'] = 'display_data';\n",
              "          await google.colab.output.renderOutput(dataTable, element);\n",
              "          const docLink = document.createElement('div');\n",
              "          docLink.innerHTML = docLinkHtml;\n",
              "          element.appendChild(docLink);\n",
              "        }\n",
              "      </script>\n",
              "    </div>\n",
              "  </div>\n",
              "  "
            ]
          },
          "metadata": {},
          "execution_count": 6
        }
      ],
      "source": [
        "test_df = pd.read_csv(\"Railofy_testing_data_for_model.csv\")\n",
        "print(test_df.shape)\n",
        "test_df.head()"
      ],
      "id": "dJYP9csmlO5O"
    },
    {
      "cell_type": "markdown",
      "metadata": {
        "papermill": {
          "duration": 0.010874,
          "end_time": "2022-08-07T07:50:45.795854",
          "exception": false,
          "start_time": "2022-08-07T07:50:45.784980",
          "status": "completed"
        },
        "tags": [],
        "id": "jf9M8X6PlO5O"
      },
      "source": [
        "# **Data Description**"
      ],
      "id": "jf9M8X6PlO5O"
    },
    {
      "cell_type": "markdown",
      "metadata": {
        "papermill": {
          "duration": 0.010667,
          "end_time": "2022-08-07T07:50:45.817608",
          "exception": false,
          "start_time": "2022-08-07T07:50:45.806941",
          "status": "completed"
        },
        "tags": [],
        "id": "q2Gud6uulO5O"
      },
      "source": [
        "Dataset description is not given by host. In order to understand the data better, I looked up the variables and tried to understand how the features are related to railway. I was unable to find detailed descroption of all the features. For those I could find, the links to avail the information has been attached. Data descriptions I am not least confident of have been marked with a '?' mark.\n",
        "\n",
        "\n",
        "**pk** - Primary key, also PNR number (https://paytm.com/train-tickets/pnr-status)<br>\n",
        "**QT** - Quota (GN: general quota, PQ: pooled quota, RL: remote location quota) (https://www.indianrail.gov.in/enquiry/StaticPages/StaticEnquiry.jsp?StaticPage=quota_Code.html&locale=en)<br>\n",
        "**ODS** -Optimization of the origin and destination of trains (https://www.researchgate.net/publication/252033209_Research_on_optimization_of_train_ODs_scheme_for_high-speed_railways)<br>\n",
        "**SL** - Sleeper class coach<br>\n",
        "**NDTD** - Downward nose - downward tail of a Hyperloop pod. (https://www.researchgate.net/publication/357856710_Numerical_study_on_the_influence_of_the_nose_and_tail_shape_on_the_aerodynamic_characteristics_of_a_Hyperloop_pod)<br>\n",
        "**SCRA** - Special Class Railway Apprentice?<br>\n",
        "**GRA** - General Risk Assessment?<br>\n",
        "**RPW** - Railway Parcel Way Bill?<br>"
      ],
      "id": "q2Gud6uulO5O"
    },
    {
      "cell_type": "markdown",
      "metadata": {
        "papermill": {
          "duration": 0.010452,
          "end_time": "2022-08-07T07:50:45.838985",
          "exception": false,
          "start_time": "2022-08-07T07:50:45.828533",
          "status": "completed"
        },
        "tags": [],
        "id": "ydC9bVeflO5P"
      },
      "source": [
        "# **Cleaning**"
      ],
      "id": "ydC9bVeflO5P"
    },
    {
      "cell_type": "markdown",
      "metadata": {
        "papermill": {
          "duration": 0.01038,
          "end_time": "2022-08-07T07:50:45.860206",
          "exception": false,
          "start_time": "2022-08-07T07:50:45.849826",
          "status": "completed"
        },
        "tags": [],
        "id": "BdYh_LoZlO5P"
      },
      "source": [
        "## Train"
      ],
      "id": "BdYh_LoZlO5P"
    },
    {
      "cell_type": "code",
      "execution_count": 7,
      "metadata": {
        "execution": {
          "iopub.execute_input": "2022-08-07T07:50:45.883322Z",
          "iopub.status.busy": "2022-08-07T07:50:45.883023Z",
          "iopub.status.idle": "2022-08-07T07:50:45.910788Z",
          "shell.execute_reply": "2022-08-07T07:50:45.909855Z"
        },
        "papermill": {
          "duration": 0.041749,
          "end_time": "2022-08-07T07:50:45.912815",
          "exception": false,
          "start_time": "2022-08-07T07:50:45.871066",
          "status": "completed"
        },
        "tags": [],
        "id": "QZtxc3UZlO5P",
        "outputId": "b24365a4-8c82-4668-95c6-b4f4f27949e1",
        "colab": {
          "base_uri": "https://localhost:8080/"
        }
      },
      "outputs": [
        {
          "output_type": "stream",
          "name": "stdout",
          "text": [
            "<class 'pandas.core.frame.DataFrame'>\n",
            "RangeIndex: 36775 entries, 0 to 36774\n",
            "Data columns (total 25 columns):\n",
            " #   Column  Non-Null Count  Dtype  \n",
            "---  ------  --------------  -----  \n",
            " 0   pk      36775 non-null  int64  \n",
            " 1   QT      36775 non-null  object \n",
            " 2   GRCA    36775 non-null  float64\n",
            " 3   CCA     36775 non-null  float64\n",
            " 4   JD      36775 non-null  float64\n",
            " 5   ODD     36775 non-null  float64\n",
            " 6   JS      36775 non-null  float64\n",
            " 7   ODS     36775 non-null  float64\n",
            " 8   SL      36775 non-null  int64  \n",
            " 9   NDTD    36775 non-null  float64\n",
            " 10  CURP    36775 non-null  float64\n",
            " 11  GROP    36775 non-null  float64\n",
            " 12  CANP    36775 non-null  float64\n",
            " 13  SBRA    36775 non-null  float64\n",
            " 14  SCRA    36775 non-null  float64\n",
            " 15  GRA     36775 non-null  float64\n",
            " 16  CURA    36775 non-null  float64\n",
            " 17  RPW     36775 non-null  float64\n",
            " 18  CUCA    36775 non-null  float64\n",
            " 19  CAR     36775 non-null  float64\n",
            " 20  BKT_2   36775 non-null  int64  \n",
            " 21  CL_1    36775 non-null  int64  \n",
            " 22  CL_2    36775 non-null  int64  \n",
            " 23  CL_3    36775 non-null  int64  \n",
            " 24  target  36775 non-null  int64  \n",
            "dtypes: float64(17), int64(7), object(1)\n",
            "memory usage: 7.0+ MB\n",
            "None\n"
          ]
        },
        {
          "output_type": "execute_result",
          "data": {
            "text/plain": [
              "pk        0\n",
              "QT        0\n",
              "GRCA      0\n",
              "CCA       0\n",
              "JD        0\n",
              "ODD       0\n",
              "JS        0\n",
              "ODS       0\n",
              "SL        0\n",
              "NDTD      0\n",
              "CURP      0\n",
              "GROP      0\n",
              "CANP      0\n",
              "SBRA      0\n",
              "SCRA      0\n",
              "GRA       0\n",
              "CURA      0\n",
              "RPW       0\n",
              "CUCA      0\n",
              "CAR       0\n",
              "BKT_2     0\n",
              "CL_1      0\n",
              "CL_2      0\n",
              "CL_3      0\n",
              "target    0\n",
              "dtype: int64"
            ]
          },
          "metadata": {},
          "execution_count": 7
        }
      ],
      "source": [
        "print(train_df.info())\n",
        "train_df.isnull().sum()"
      ],
      "id": "QZtxc3UZlO5P"
    },
    {
      "cell_type": "markdown",
      "metadata": {
        "papermill": {
          "duration": 0.01089,
          "end_time": "2022-08-07T07:50:45.936279",
          "exception": false,
          "start_time": "2022-08-07T07:50:45.925389",
          "status": "completed"
        },
        "tags": [],
        "id": "dT_5WdfWlO5Q"
      },
      "source": [
        "No null values present."
      ],
      "id": "dT_5WdfWlO5Q"
    },
    {
      "cell_type": "code",
      "execution_count": 8,
      "metadata": {
        "execution": {
          "iopub.execute_input": "2022-08-07T07:50:45.960335Z",
          "iopub.status.busy": "2022-08-07T07:50:45.959334Z",
          "iopub.status.idle": "2022-08-07T07:50:45.980746Z",
          "shell.execute_reply": "2022-08-07T07:50:45.979921Z"
        },
        "papermill": {
          "duration": 0.034863,
          "end_time": "2022-08-07T07:50:45.982303",
          "exception": false,
          "start_time": "2022-08-07T07:50:45.947440",
          "status": "completed"
        },
        "tags": [],
        "id": "qu6uBj7dlO5Q",
        "outputId": "92e955b8-053e-4c85-d7ea-69580ceea508",
        "colab": {
          "base_uri": "https://localhost:8080/",
          "height": 237
        }
      },
      "outputs": [
        {
          "output_type": "execute_result",
          "data": {
            "text/plain": [
              "                pk  QT      GRCA       CCA        JD       ODD        JS  \\\n",
              "27518  61017898402  RL  0.507760  1.393839  0.784174  0.769489  0.798112   \n",
              "27519  61017898403  GN  2.678027  1.393839  0.830302  0.814753  0.975470   \n",
              "36328  22406560832  RL  0.884486  1.243159  0.662021  0.632137  0.532075   \n",
              "\n",
              "            ODS  SL      NDTD  ...       GRA      CURA       RPW      CUCA  \\\n",
              "27518  0.486486   1  0.001846  ...  0.548753  0.517636  0.247461 -0.164658   \n",
              "27519  0.594595   1  0.014351  ...  1.189930  1.081251  0.244202 -0.164658   \n",
              "36328  0.631579   1  0.005524  ...  2.573901  1.458280  0.243260  0.395827   \n",
              "\n",
              "            CAR  BKT_2  CL_1  CL_2  CL_3  target  \n",
              "27518  3.887704      1     1     0     0       0  \n",
              "27519  0.911847      1     1     0     0       0  \n",
              "36328  1.074775      1     1     0     0       1  \n",
              "\n",
              "[3 rows x 25 columns]"
            ],
            "text/html": [
              "\n",
              "  <div id=\"df-b691d288-3908-4f03-aeff-74ed0633b16f\">\n",
              "    <div class=\"colab-df-container\">\n",
              "      <div>\n",
              "<style scoped>\n",
              "    .dataframe tbody tr th:only-of-type {\n",
              "        vertical-align: middle;\n",
              "    }\n",
              "\n",
              "    .dataframe tbody tr th {\n",
              "        vertical-align: top;\n",
              "    }\n",
              "\n",
              "    .dataframe thead th {\n",
              "        text-align: right;\n",
              "    }\n",
              "</style>\n",
              "<table border=\"1\" class=\"dataframe\">\n",
              "  <thead>\n",
              "    <tr style=\"text-align: right;\">\n",
              "      <th></th>\n",
              "      <th>pk</th>\n",
              "      <th>QT</th>\n",
              "      <th>GRCA</th>\n",
              "      <th>CCA</th>\n",
              "      <th>JD</th>\n",
              "      <th>ODD</th>\n",
              "      <th>JS</th>\n",
              "      <th>ODS</th>\n",
              "      <th>SL</th>\n",
              "      <th>NDTD</th>\n",
              "      <th>...</th>\n",
              "      <th>GRA</th>\n",
              "      <th>CURA</th>\n",
              "      <th>RPW</th>\n",
              "      <th>CUCA</th>\n",
              "      <th>CAR</th>\n",
              "      <th>BKT_2</th>\n",
              "      <th>CL_1</th>\n",
              "      <th>CL_2</th>\n",
              "      <th>CL_3</th>\n",
              "      <th>target</th>\n",
              "    </tr>\n",
              "  </thead>\n",
              "  <tbody>\n",
              "    <tr>\n",
              "      <th>27518</th>\n",
              "      <td>61017898402</td>\n",
              "      <td>RL</td>\n",
              "      <td>0.507760</td>\n",
              "      <td>1.393839</td>\n",
              "      <td>0.784174</td>\n",
              "      <td>0.769489</td>\n",
              "      <td>0.798112</td>\n",
              "      <td>0.486486</td>\n",
              "      <td>1</td>\n",
              "      <td>0.001846</td>\n",
              "      <td>...</td>\n",
              "      <td>0.548753</td>\n",
              "      <td>0.517636</td>\n",
              "      <td>0.247461</td>\n",
              "      <td>-0.164658</td>\n",
              "      <td>3.887704</td>\n",
              "      <td>1</td>\n",
              "      <td>1</td>\n",
              "      <td>0</td>\n",
              "      <td>0</td>\n",
              "      <td>0</td>\n",
              "    </tr>\n",
              "    <tr>\n",
              "      <th>27519</th>\n",
              "      <td>61017898403</td>\n",
              "      <td>GN</td>\n",
              "      <td>2.678027</td>\n",
              "      <td>1.393839</td>\n",
              "      <td>0.830302</td>\n",
              "      <td>0.814753</td>\n",
              "      <td>0.975470</td>\n",
              "      <td>0.594595</td>\n",
              "      <td>1</td>\n",
              "      <td>0.014351</td>\n",
              "      <td>...</td>\n",
              "      <td>1.189930</td>\n",
              "      <td>1.081251</td>\n",
              "      <td>0.244202</td>\n",
              "      <td>-0.164658</td>\n",
              "      <td>0.911847</td>\n",
              "      <td>1</td>\n",
              "      <td>1</td>\n",
              "      <td>0</td>\n",
              "      <td>0</td>\n",
              "      <td>0</td>\n",
              "    </tr>\n",
              "    <tr>\n",
              "      <th>36328</th>\n",
              "      <td>22406560832</td>\n",
              "      <td>RL</td>\n",
              "      <td>0.884486</td>\n",
              "      <td>1.243159</td>\n",
              "      <td>0.662021</td>\n",
              "      <td>0.632137</td>\n",
              "      <td>0.532075</td>\n",
              "      <td>0.631579</td>\n",
              "      <td>1</td>\n",
              "      <td>0.005524</td>\n",
              "      <td>...</td>\n",
              "      <td>2.573901</td>\n",
              "      <td>1.458280</td>\n",
              "      <td>0.243260</td>\n",
              "      <td>0.395827</td>\n",
              "      <td>1.074775</td>\n",
              "      <td>1</td>\n",
              "      <td>1</td>\n",
              "      <td>0</td>\n",
              "      <td>0</td>\n",
              "      <td>1</td>\n",
              "    </tr>\n",
              "  </tbody>\n",
              "</table>\n",
              "<p>3 rows × 25 columns</p>\n",
              "</div>\n",
              "      <button class=\"colab-df-convert\" onclick=\"convertToInteractive('df-b691d288-3908-4f03-aeff-74ed0633b16f')\"\n",
              "              title=\"Convert this dataframe to an interactive table.\"\n",
              "              style=\"display:none;\">\n",
              "        \n",
              "  <svg xmlns=\"http://www.w3.org/2000/svg\" height=\"24px\"viewBox=\"0 0 24 24\"\n",
              "       width=\"24px\">\n",
              "    <path d=\"M0 0h24v24H0V0z\" fill=\"none\"/>\n",
              "    <path d=\"M18.56 5.44l.94 2.06.94-2.06 2.06-.94-2.06-.94-.94-2.06-.94 2.06-2.06.94zm-11 1L8.5 8.5l.94-2.06 2.06-.94-2.06-.94L8.5 2.5l-.94 2.06-2.06.94zm10 10l.94 2.06.94-2.06 2.06-.94-2.06-.94-.94-2.06-.94 2.06-2.06.94z\"/><path d=\"M17.41 7.96l-1.37-1.37c-.4-.4-.92-.59-1.43-.59-.52 0-1.04.2-1.43.59L10.3 9.45l-7.72 7.72c-.78.78-.78 2.05 0 2.83L4 21.41c.39.39.9.59 1.41.59.51 0 1.02-.2 1.41-.59l7.78-7.78 2.81-2.81c.8-.78.8-2.07 0-2.86zM5.41 20L4 18.59l7.72-7.72 1.47 1.35L5.41 20z\"/>\n",
              "  </svg>\n",
              "      </button>\n",
              "      \n",
              "  <style>\n",
              "    .colab-df-container {\n",
              "      display:flex;\n",
              "      flex-wrap:wrap;\n",
              "      gap: 12px;\n",
              "    }\n",
              "\n",
              "    .colab-df-convert {\n",
              "      background-color: #E8F0FE;\n",
              "      border: none;\n",
              "      border-radius: 50%;\n",
              "      cursor: pointer;\n",
              "      display: none;\n",
              "      fill: #1967D2;\n",
              "      height: 32px;\n",
              "      padding: 0 0 0 0;\n",
              "      width: 32px;\n",
              "    }\n",
              "\n",
              "    .colab-df-convert:hover {\n",
              "      background-color: #E2EBFA;\n",
              "      box-shadow: 0px 1px 2px rgba(60, 64, 67, 0.3), 0px 1px 3px 1px rgba(60, 64, 67, 0.15);\n",
              "      fill: #174EA6;\n",
              "    }\n",
              "\n",
              "    [theme=dark] .colab-df-convert {\n",
              "      background-color: #3B4455;\n",
              "      fill: #D2E3FC;\n",
              "    }\n",
              "\n",
              "    [theme=dark] .colab-df-convert:hover {\n",
              "      background-color: #434B5C;\n",
              "      box-shadow: 0px 1px 3px 1px rgba(0, 0, 0, 0.15);\n",
              "      filter: drop-shadow(0px 1px 2px rgba(0, 0, 0, 0.3));\n",
              "      fill: #FFFFFF;\n",
              "    }\n",
              "  </style>\n",
              "\n",
              "      <script>\n",
              "        const buttonEl =\n",
              "          document.querySelector('#df-b691d288-3908-4f03-aeff-74ed0633b16f button.colab-df-convert');\n",
              "        buttonEl.style.display =\n",
              "          google.colab.kernel.accessAllowed ? 'block' : 'none';\n",
              "\n",
              "        async function convertToInteractive(key) {\n",
              "          const element = document.querySelector('#df-b691d288-3908-4f03-aeff-74ed0633b16f');\n",
              "          const dataTable =\n",
              "            await google.colab.kernel.invokeFunction('convertToInteractive',\n",
              "                                                     [key], {});\n",
              "          if (!dataTable) return;\n",
              "\n",
              "          const docLinkHtml = 'Like what you see? Visit the ' +\n",
              "            '<a target=\"_blank\" href=https://colab.research.google.com/notebooks/data_table.ipynb>data table notebook</a>'\n",
              "            + ' to learn more about interactive tables.';\n",
              "          element.innerHTML = '';\n",
              "          dataTable['output_type'] = 'display_data';\n",
              "          await google.colab.output.renderOutput(dataTable, element);\n",
              "          const docLink = document.createElement('div');\n",
              "          docLink.innerHTML = docLinkHtml;\n",
              "          element.appendChild(docLink);\n",
              "        }\n",
              "      </script>\n",
              "    </div>\n",
              "  </div>\n",
              "  "
            ]
          },
          "metadata": {},
          "execution_count": 8
        }
      ],
      "source": [
        "train_df.loc[train_df.duplicated(['pk']),:]"
      ],
      "id": "qu6uBj7dlO5Q"
    },
    {
      "cell_type": "markdown",
      "metadata": {
        "papermill": {
          "duration": 0.011002,
          "end_time": "2022-08-07T07:50:46.004789",
          "exception": false,
          "start_time": "2022-08-07T07:50:45.993787",
          "status": "completed"
        },
        "tags": [],
        "id": "XmiWfCyclO5Q"
      },
      "source": [
        "3 primary keys seem to have duplicates."
      ],
      "id": "XmiWfCyclO5Q"
    },
    {
      "cell_type": "code",
      "execution_count": 9,
      "metadata": {
        "execution": {
          "iopub.execute_input": "2022-08-07T07:50:46.029704Z",
          "iopub.status.busy": "2022-08-07T07:50:46.028870Z",
          "iopub.status.idle": "2022-08-07T07:50:46.039893Z",
          "shell.execute_reply": "2022-08-07T07:50:46.039104Z"
        },
        "papermill": {
          "duration": 0.026088,
          "end_time": "2022-08-07T07:50:46.042247",
          "exception": false,
          "start_time": "2022-08-07T07:50:46.016159",
          "status": "completed"
        },
        "tags": [],
        "id": "7s88f40AlO5Q"
      },
      "outputs": [],
      "source": [
        "train_df.drop_duplicates(\"pk\", keep = \"first\", inplace = True)"
      ],
      "id": "7s88f40AlO5Q"
    },
    {
      "cell_type": "markdown",
      "metadata": {
        "papermill": {
          "duration": 0.011123,
          "end_time": "2022-08-07T07:50:46.064815",
          "exception": false,
          "start_time": "2022-08-07T07:50:46.053692",
          "status": "completed"
        },
        "tags": [],
        "id": "FuSD_TKolO5Q"
      },
      "source": [
        "## Test"
      ],
      "id": "FuSD_TKolO5Q"
    },
    {
      "cell_type": "code",
      "execution_count": 10,
      "metadata": {
        "execution": {
          "iopub.execute_input": "2022-08-07T07:50:46.090319Z",
          "iopub.status.busy": "2022-08-07T07:50:46.089822Z",
          "iopub.status.idle": "2022-08-07T07:50:46.104242Z",
          "shell.execute_reply": "2022-08-07T07:50:46.102912Z"
        },
        "papermill": {
          "duration": 0.030162,
          "end_time": "2022-08-07T07:50:46.106525",
          "exception": false,
          "start_time": "2022-08-07T07:50:46.076363",
          "status": "completed"
        },
        "tags": [],
        "id": "H4pwSwSUlO5R",
        "outputId": "bfc8cc2b-97c4-4ec4-9309-1f088345d2e6",
        "colab": {
          "base_uri": "https://localhost:8080/"
        }
      },
      "outputs": [
        {
          "output_type": "stream",
          "name": "stdout",
          "text": [
            "<class 'pandas.core.frame.DataFrame'>\n",
            "RangeIndex: 3847 entries, 0 to 3846\n",
            "Data columns (total 24 columns):\n",
            " #   Column  Non-Null Count  Dtype  \n",
            "---  ------  --------------  -----  \n",
            " 0   pk      3847 non-null   int64  \n",
            " 1   QT      3847 non-null   object \n",
            " 2   GRCA    3847 non-null   float64\n",
            " 3   CCA     3847 non-null   float64\n",
            " 4   JD      3847 non-null   float64\n",
            " 5   ODD     3847 non-null   float64\n",
            " 6   JS      3847 non-null   float64\n",
            " 7   ODS     3847 non-null   float64\n",
            " 8   SL      3847 non-null   int64  \n",
            " 9   NDTD    3847 non-null   float64\n",
            " 10  CURP    3847 non-null   float64\n",
            " 11  GROP    3847 non-null   float64\n",
            " 12  CANP    3847 non-null   float64\n",
            " 13  SBRA    3847 non-null   float64\n",
            " 14  SCRA    3847 non-null   float64\n",
            " 15  GRA     3847 non-null   float64\n",
            " 16  CURA    3847 non-null   float64\n",
            " 17  RPW     3847 non-null   float64\n",
            " 18  CUCA    3847 non-null   float64\n",
            " 19  CAR     3847 non-null   float64\n",
            " 20  BKT_2   3847 non-null   int64  \n",
            " 21  CL_1    3847 non-null   int64  \n",
            " 22  CL_2    3847 non-null   int64  \n",
            " 23  CL_3    3847 non-null   int64  \n",
            "dtypes: float64(17), int64(6), object(1)\n",
            "memory usage: 721.4+ KB\n",
            "None\n"
          ]
        },
        {
          "output_type": "execute_result",
          "data": {
            "text/plain": [
              "pk       0\n",
              "QT       0\n",
              "GRCA     0\n",
              "CCA      0\n",
              "JD       0\n",
              "ODD      0\n",
              "JS       0\n",
              "ODS      0\n",
              "SL       0\n",
              "NDTD     0\n",
              "CURP     0\n",
              "GROP     0\n",
              "CANP     0\n",
              "SBRA     0\n",
              "SCRA     0\n",
              "GRA      0\n",
              "CURA     0\n",
              "RPW      0\n",
              "CUCA     0\n",
              "CAR      0\n",
              "BKT_2    0\n",
              "CL_1     0\n",
              "CL_2     0\n",
              "CL_3     0\n",
              "dtype: int64"
            ]
          },
          "metadata": {},
          "execution_count": 10
        }
      ],
      "source": [
        "print(test_df.info())\n",
        "test_df.isnull().sum()"
      ],
      "id": "H4pwSwSUlO5R"
    },
    {
      "cell_type": "markdown",
      "metadata": {
        "papermill": {
          "duration": 0.011629,
          "end_time": "2022-08-07T07:50:46.129928",
          "exception": false,
          "start_time": "2022-08-07T07:50:46.118299",
          "status": "completed"
        },
        "tags": [],
        "id": "uAGkq397lO5R"
      },
      "source": [
        "No null values present"
      ],
      "id": "uAGkq397lO5R"
    },
    {
      "cell_type": "code",
      "execution_count": 11,
      "metadata": {
        "execution": {
          "iopub.execute_input": "2022-08-07T07:50:46.153968Z",
          "iopub.status.busy": "2022-08-07T07:50:46.153678Z",
          "iopub.status.idle": "2022-08-07T07:50:46.171118Z",
          "shell.execute_reply": "2022-08-07T07:50:46.170498Z"
        },
        "papermill": {
          "duration": 0.031388,
          "end_time": "2022-08-07T07:50:46.172611",
          "exception": false,
          "start_time": "2022-08-07T07:50:46.141223",
          "status": "completed"
        },
        "tags": [],
        "id": "4qoEegIDlO5R",
        "outputId": "07938a57-e90b-4f3f-e13a-1e52881f249f",
        "colab": {
          "base_uri": "https://localhost:8080/",
          "height": 79
        }
      },
      "outputs": [
        {
          "output_type": "execute_result",
          "data": {
            "text/plain": [
              "Empty DataFrame\n",
              "Columns: [pk, QT, GRCA, CCA, JD, ODD, JS, ODS, SL, NDTD, CURP, GROP, CANP, SBRA, SCRA, GRA, CURA, RPW, CUCA, CAR, BKT_2, CL_1, CL_2, CL_3]\n",
              "Index: []\n",
              "\n",
              "[0 rows x 24 columns]"
            ],
            "text/html": [
              "\n",
              "  <div id=\"df-925bcb3c-b159-4a28-b8e9-c79f5e623900\">\n",
              "    <div class=\"colab-df-container\">\n",
              "      <div>\n",
              "<style scoped>\n",
              "    .dataframe tbody tr th:only-of-type {\n",
              "        vertical-align: middle;\n",
              "    }\n",
              "\n",
              "    .dataframe tbody tr th {\n",
              "        vertical-align: top;\n",
              "    }\n",
              "\n",
              "    .dataframe thead th {\n",
              "        text-align: right;\n",
              "    }\n",
              "</style>\n",
              "<table border=\"1\" class=\"dataframe\">\n",
              "  <thead>\n",
              "    <tr style=\"text-align: right;\">\n",
              "      <th></th>\n",
              "      <th>pk</th>\n",
              "      <th>QT</th>\n",
              "      <th>GRCA</th>\n",
              "      <th>CCA</th>\n",
              "      <th>JD</th>\n",
              "      <th>ODD</th>\n",
              "      <th>JS</th>\n",
              "      <th>ODS</th>\n",
              "      <th>SL</th>\n",
              "      <th>NDTD</th>\n",
              "      <th>...</th>\n",
              "      <th>SCRA</th>\n",
              "      <th>GRA</th>\n",
              "      <th>CURA</th>\n",
              "      <th>RPW</th>\n",
              "      <th>CUCA</th>\n",
              "      <th>CAR</th>\n",
              "      <th>BKT_2</th>\n",
              "      <th>CL_1</th>\n",
              "      <th>CL_2</th>\n",
              "      <th>CL_3</th>\n",
              "    </tr>\n",
              "  </thead>\n",
              "  <tbody>\n",
              "  </tbody>\n",
              "</table>\n",
              "<p>0 rows × 24 columns</p>\n",
              "</div>\n",
              "      <button class=\"colab-df-convert\" onclick=\"convertToInteractive('df-925bcb3c-b159-4a28-b8e9-c79f5e623900')\"\n",
              "              title=\"Convert this dataframe to an interactive table.\"\n",
              "              style=\"display:none;\">\n",
              "        \n",
              "  <svg xmlns=\"http://www.w3.org/2000/svg\" height=\"24px\"viewBox=\"0 0 24 24\"\n",
              "       width=\"24px\">\n",
              "    <path d=\"M0 0h24v24H0V0z\" fill=\"none\"/>\n",
              "    <path d=\"M18.56 5.44l.94 2.06.94-2.06 2.06-.94-2.06-.94-.94-2.06-.94 2.06-2.06.94zm-11 1L8.5 8.5l.94-2.06 2.06-.94-2.06-.94L8.5 2.5l-.94 2.06-2.06.94zm10 10l.94 2.06.94-2.06 2.06-.94-2.06-.94-.94-2.06-.94 2.06-2.06.94z\"/><path d=\"M17.41 7.96l-1.37-1.37c-.4-.4-.92-.59-1.43-.59-.52 0-1.04.2-1.43.59L10.3 9.45l-7.72 7.72c-.78.78-.78 2.05 0 2.83L4 21.41c.39.39.9.59 1.41.59.51 0 1.02-.2 1.41-.59l7.78-7.78 2.81-2.81c.8-.78.8-2.07 0-2.86zM5.41 20L4 18.59l7.72-7.72 1.47 1.35L5.41 20z\"/>\n",
              "  </svg>\n",
              "      </button>\n",
              "      \n",
              "  <style>\n",
              "    .colab-df-container {\n",
              "      display:flex;\n",
              "      flex-wrap:wrap;\n",
              "      gap: 12px;\n",
              "    }\n",
              "\n",
              "    .colab-df-convert {\n",
              "      background-color: #E8F0FE;\n",
              "      border: none;\n",
              "      border-radius: 50%;\n",
              "      cursor: pointer;\n",
              "      display: none;\n",
              "      fill: #1967D2;\n",
              "      height: 32px;\n",
              "      padding: 0 0 0 0;\n",
              "      width: 32px;\n",
              "    }\n",
              "\n",
              "    .colab-df-convert:hover {\n",
              "      background-color: #E2EBFA;\n",
              "      box-shadow: 0px 1px 2px rgba(60, 64, 67, 0.3), 0px 1px 3px 1px rgba(60, 64, 67, 0.15);\n",
              "      fill: #174EA6;\n",
              "    }\n",
              "\n",
              "    [theme=dark] .colab-df-convert {\n",
              "      background-color: #3B4455;\n",
              "      fill: #D2E3FC;\n",
              "    }\n",
              "\n",
              "    [theme=dark] .colab-df-convert:hover {\n",
              "      background-color: #434B5C;\n",
              "      box-shadow: 0px 1px 3px 1px rgba(0, 0, 0, 0.15);\n",
              "      filter: drop-shadow(0px 1px 2px rgba(0, 0, 0, 0.3));\n",
              "      fill: #FFFFFF;\n",
              "    }\n",
              "  </style>\n",
              "\n",
              "      <script>\n",
              "        const buttonEl =\n",
              "          document.querySelector('#df-925bcb3c-b159-4a28-b8e9-c79f5e623900 button.colab-df-convert');\n",
              "        buttonEl.style.display =\n",
              "          google.colab.kernel.accessAllowed ? 'block' : 'none';\n",
              "\n",
              "        async function convertToInteractive(key) {\n",
              "          const element = document.querySelector('#df-925bcb3c-b159-4a28-b8e9-c79f5e623900');\n",
              "          const dataTable =\n",
              "            await google.colab.kernel.invokeFunction('convertToInteractive',\n",
              "                                                     [key], {});\n",
              "          if (!dataTable) return;\n",
              "\n",
              "          const docLinkHtml = 'Like what you see? Visit the ' +\n",
              "            '<a target=\"_blank\" href=https://colab.research.google.com/notebooks/data_table.ipynb>data table notebook</a>'\n",
              "            + ' to learn more about interactive tables.';\n",
              "          element.innerHTML = '';\n",
              "          dataTable['output_type'] = 'display_data';\n",
              "          await google.colab.output.renderOutput(dataTable, element);\n",
              "          const docLink = document.createElement('div');\n",
              "          docLink.innerHTML = docLinkHtml;\n",
              "          element.appendChild(docLink);\n",
              "        }\n",
              "      </script>\n",
              "    </div>\n",
              "  </div>\n",
              "  "
            ]
          },
          "metadata": {},
          "execution_count": 11
        }
      ],
      "source": [
        "test_df.loc[train_df.duplicated(['pk']),:]"
      ],
      "id": "4qoEegIDlO5R"
    },
    {
      "cell_type": "markdown",
      "metadata": {
        "papermill": {
          "duration": 0.011109,
          "end_time": "2022-08-07T07:50:46.195361",
          "exception": false,
          "start_time": "2022-08-07T07:50:46.184252",
          "status": "completed"
        },
        "tags": [],
        "id": "9F5h3QwRlO5R"
      },
      "source": [
        "No duplicates detected."
      ],
      "id": "9F5h3QwRlO5R"
    },
    {
      "cell_type": "markdown",
      "metadata": {
        "papermill": {
          "duration": 0.011379,
          "end_time": "2022-08-07T07:50:46.219282",
          "exception": false,
          "start_time": "2022-08-07T07:50:46.207903",
          "status": "completed"
        },
        "tags": [],
        "id": "ntIPntwVlO5S"
      },
      "source": [
        "# **Feature Engineering**"
      ],
      "id": "ntIPntwVlO5S"
    },
    {
      "cell_type": "markdown",
      "metadata": {
        "papermill": {
          "duration": 0.011403,
          "end_time": "2022-08-07T07:50:46.242166",
          "exception": false,
          "start_time": "2022-08-07T07:50:46.230763",
          "status": "completed"
        },
        "tags": [],
        "id": "kSwdWp-FlO5S"
      },
      "source": [
        "## Feature Distribution"
      ],
      "id": "kSwdWp-FlO5S"
    },
    {
      "cell_type": "markdown",
      "metadata": {
        "papermill": {
          "duration": 0.011356,
          "end_time": "2022-08-07T07:50:46.265250",
          "exception": false,
          "start_time": "2022-08-07T07:50:46.253894",
          "status": "completed"
        },
        "tags": [],
        "id": "HOb-VyD1lO5S"
      },
      "source": [
        "### Extracting zones from PNR (primary key - pk)\n",
        "\n",
        "According to this source https://paytm.com/train-tickets/pnr-status, the first 3 digits of the PNR indicate the Passenger Reservation System. The first digit of the PNR indicate the zone of the departure station of the train."
      ],
      "id": "HOb-VyD1lO5S"
    },
    {
      "cell_type": "code",
      "execution_count": 12,
      "metadata": {
        "execution": {
          "iopub.execute_input": "2022-08-07T07:50:46.289947Z",
          "iopub.status.busy": "2022-08-07T07:50:46.289459Z",
          "iopub.status.idle": "2022-08-07T07:50:46.344124Z",
          "shell.execute_reply": "2022-08-07T07:50:46.343541Z"
        },
        "papermill": {
          "duration": 0.069361,
          "end_time": "2022-08-07T07:50:46.346041",
          "exception": false,
          "start_time": "2022-08-07T07:50:46.276680",
          "status": "completed"
        },
        "tags": [],
        "id": "VkJ6FICBlO5S"
      },
      "outputs": [],
      "source": [
        "train_df['PRS'] = train_df['pk'].astype('str').str[:1].astype(np.int64)\n",
        "train_df=train_df.drop(['pk'],axis=1)\n",
        "train_df['PRS']=train_df['PRS'].replace({\n",
        "    1:'Secunderabad',\n",
        "    2:'New_Delhi',\n",
        "    3:'New_Delhi',\n",
        "    4:'Chennai',\n",
        "    5:'Chennai',\n",
        "    6:'Kolkata',\n",
        "    7:'Kolkata',\n",
        "    8:'Mumbai',\n",
        "    9:'Mumbai'\n",
        "})\n",
        "\n",
        "\n",
        "test_df['PRS'] = test_df['pk'].astype('str').str[:1].astype(np.int64)\n",
        "test_df=test_df.drop(['pk'],axis=1)\n",
        "test_df['PRS']=test_df['PRS'].replace({\n",
        "    1:'Secunderabad',\n",
        "    2:'New_Delhi',\n",
        "    3:'New_Delhi',\n",
        "    4:'Chennai',\n",
        "    5:'Chennai',\n",
        "    6:'Kolkata',\n",
        "    7:'Kolkata',\n",
        "    8:'Mumbai',\n",
        "    9:'Mumbai'\n",
        "})"
      ],
      "id": "VkJ6FICBlO5S"
    },
    {
      "cell_type": "markdown",
      "metadata": {
        "papermill": {
          "duration": 0.011477,
          "end_time": "2022-08-07T07:50:46.369298",
          "exception": false,
          "start_time": "2022-08-07T07:50:46.357821",
          "status": "completed"
        },
        "tags": [],
        "id": "np4gHLFnlO5S"
      },
      "source": [
        "### Checking frequency distributions of categorical and numerical variables"
      ],
      "id": "np4gHLFnlO5S"
    },
    {
      "cell_type": "code",
      "execution_count": 13,
      "metadata": {
        "execution": {
          "iopub.execute_input": "2022-08-07T07:50:46.394118Z",
          "iopub.status.busy": "2022-08-07T07:50:46.393656Z",
          "iopub.status.idle": "2022-08-07T07:50:47.143216Z",
          "shell.execute_reply": "2022-08-07T07:50:47.142179Z"
        },
        "papermill": {
          "duration": 0.764466,
          "end_time": "2022-08-07T07:50:47.145521",
          "exception": false,
          "start_time": "2022-08-07T07:50:46.381055",
          "status": "completed"
        },
        "tags": [],
        "id": "2VY0ecRYlO5S",
        "outputId": "af7de0f0-4653-4624-f456-b3a7f17cf069",
        "colab": {
          "base_uri": "https://localhost:8080/",
          "height": 927
        }
      },
      "outputs": [
        {
          "output_type": "display_data",
          "data": {
            "text/plain": [
              "<Figure size 1080x1080 with 7 Axes>"
            ],
            "image/png": "[encoded data removed]"
          },
          "metadata": {
            "needs_background": "light"
          }
        }
      ],
      "source": [
        "cat = ['PRS','QT','SL','BKT_2','CL_1','CL_2','CL_3']\n",
        "plt.figure(figsize=(15,15))\n",
        "plt.subplots_adjust(left=0.1,\n",
        "                    bottom=0.1, \n",
        "                    right=0.9, \n",
        "                    top=0.9, \n",
        "                    wspace=0.4, \n",
        "                    hspace=0.4)\n",
        "i = 1\n",
        "for c in cat:\n",
        "    plt.subplot(3,3,i)\n",
        "    sns.countplot(x=c,hue=\"target\",data=train_df, palette= 'Set2')\n",
        "    i+=1"
      ],
      "id": "2VY0ecRYlO5S"
    },
    {
      "cell_type": "code",
      "execution_count": 14,
      "metadata": {
        "execution": {
          "iopub.execute_input": "2022-08-07T07:50:47.172014Z",
          "iopub.status.busy": "2022-08-07T07:50:47.171713Z",
          "iopub.status.idle": "2022-08-07T07:50:55.062645Z",
          "shell.execute_reply": "2022-08-07T07:50:55.062009Z"
        },
        "papermill": {
          "duration": 7.906491,
          "end_time": "2022-08-07T07:50:55.064736",
          "exception": false,
          "start_time": "2022-08-07T07:50:47.158245",
          "status": "completed"
        },
        "tags": [],
        "id": "MdFKsZjWlO5T",
        "outputId": "52fa49a8-75b8-432a-8a1a-5ef8fe2b7d67",
        "colab": {
          "base_uri": "https://localhost:8080/",
          "height": 1000
        }
      },
      "outputs": [
        {
          "output_type": "display_data",
          "data": {
            "text/plain": [
              "<Figure size 1800x2520 with 17 Axes>"
            ],
            "image/png": "[encoded data removed]"
          },
          "metadata": {
            "needs_background": "light"
          }
        }
      ],
      "source": [
        "num = ['GRCA', 'CCA', 'JD', 'ODD', 'JS', 'ODS', 'NDTD', 'CURP', 'GROP', 'CANP', 'SBRA', 'SCRA', 'GRA', 'CURA', 'RPW', 'CUCA', 'CAR']\n",
        "\n",
        "\n",
        "plt.figure(figsize=(25,35))\n",
        "plt.subplots_adjust(left=0.1,\n",
        "                    bottom=0.1, \n",
        "                    right=0.9, \n",
        "                    top=0.9, \n",
        "                    wspace=0.4, \n",
        "                    hspace=0.4)\n",
        "j = 1\n",
        "for c in num:\n",
        "    plt.subplot(9,3,j)\n",
        "    sns.histplot(x=c,hue=\"target\", data=train_df, palette= 'Set2')\n",
        "    j+=1"
      ],
      "id": "MdFKsZjWlO5T"
    },
    {
      "cell_type": "markdown",
      "metadata": {
        "papermill": {
          "duration": 0.013528,
          "end_time": "2022-08-07T07:50:55.092164",
          "exception": false,
          "start_time": "2022-08-07T07:50:55.078636",
          "status": "completed"
        },
        "tags": [],
        "id": "vOfN-urQlO5T"
      },
      "source": [
        "### Encoding categorical attributes"
      ],
      "id": "vOfN-urQlO5T"
    },
    {
      "cell_type": "code",
      "execution_count": 15,
      "metadata": {
        "execution": {
          "iopub.execute_input": "2022-08-07T07:50:55.121789Z",
          "iopub.status.busy": "2022-08-07T07:50:55.121255Z",
          "iopub.status.idle": "2022-08-07T07:50:55.159339Z",
          "shell.execute_reply": "2022-08-07T07:50:55.158700Z"
        },
        "papermill": {
          "duration": 0.05486,
          "end_time": "2022-08-07T07:50:55.160785",
          "exception": false,
          "start_time": "2022-08-07T07:50:55.105925",
          "status": "completed"
        },
        "tags": [],
        "id": "UKT0USMklO5T",
        "outputId": "0ead61d4-6428-4a02-86a9-c1f9262797ff",
        "colab": {
          "base_uri": "https://localhost:8080/",
          "height": 300
        }
      },
      "outputs": [
        {
          "output_type": "execute_result",
          "data": {
            "text/plain": [
              "       GRCA       CCA        JD       ODD        JS       ODS  SL      NDTD  \\\n",
              "0  1.400436  0.610522  0.667146  0.930870  0.709433  0.800000   1  0.016290   \n",
              "1  1.400436  0.610522  0.667146  0.930870  0.709433  0.800000   1  0.024623   \n",
              "2  0.728882  0.524062  1.365898  0.885873  1.463205  0.767442   0  0.004357   \n",
              "3  5.000000  5.000000  0.298977  0.764192  0.354716  0.800000   0  0.003798   \n",
              "4  0.614226  0.389327  0.699606  0.917133  1.108489  0.862069   1  0.024571   \n",
              "\n",
              "       CURP      GROP  ...  CL_2  CL_3  target  QT_GN  QT_PQ  QT_RL  \\\n",
              "0  0.204678  0.409357  ...     1     0       0      1      0      0   \n",
              "1  0.216374  0.409357  ...     1     0       0      1      0      0   \n",
              "2  0.089888  0.101124  ...     0     0       0      1      0      0   \n",
              "3  0.314147  0.328710  ...     0     0       1      1      0      0   \n",
              "4  0.253333  0.560000  ...     1     0       0      1      0      0   \n",
              "\n",
              "   PRS_Chennai  PRS_Kolkata  PRS_Mumbai  PRS_New_Delhi  \n",
              "0            0            0           1              0  \n",
              "1            0            0           1              0  \n",
              "2            0            0           1              0  \n",
              "3            0            0           1              0  \n",
              "4            0            0           1              0  \n",
              "\n",
              "[5 rows x 30 columns]"
            ],
            "text/html": [
              "\n",
              "  <div id=\"df-1b95b5fa-3429-4d39-9bac-8054824c2292\">\n",
              "    <div class=\"colab-df-container\">\n",
              "      <div>\n",
              "<style scoped>\n",
              "    .dataframe tbody tr th:only-of-type {\n",
              "        vertical-align: middle;\n",
              "    }\n",
              "\n",
              "    .dataframe tbody tr th {\n",
              "        vertical-align: top;\n",
              "    }\n",
              "\n",
              "    .dataframe thead th {\n",
              "        text-align: right;\n",
              "    }\n",
              "</style>\n",
              "<table border=\"1\" class=\"dataframe\">\n",
              "  <thead>\n",
              "    <tr style=\"text-align: right;\">\n",
              "      <th></th>\n",
              "      <th>GRCA</th>\n",
              "      <th>CCA</th>\n",
              "      <th>JD</th>\n",
              "      <th>ODD</th>\n",
              "      <th>JS</th>\n",
              "      <th>ODS</th>\n",
              "      <th>SL</th>\n",
              "      <th>NDTD</th>\n",
              "      <th>CURP</th>\n",
              "      <th>GROP</th>\n",
              "      <th>...</th>\n",
              "      <th>CL_2</th>\n",
              "      <th>CL_3</th>\n",
              "      <th>target</th>\n",
              "      <th>QT_GN</th>\n",
              "      <th>QT_PQ</th>\n",
              "      <th>QT_RL</th>\n",
              "      <th>PRS_Chennai</th>\n",
              "      <th>PRS_Kolkata</th>\n",
              "      <th>PRS_Mumbai</th>\n",
              "      <th>PRS_New_Delhi</th>\n",
              "    </tr>\n",
              "  </thead>\n",
              "  <tbody>\n",
              "    <tr>\n",
              "      <th>0</th>\n",
              "      <td>1.400436</td>\n",
              "      <td>0.610522</td>\n",
              "      <td>0.667146</td>\n",
              "      <td>0.930870</td>\n",
              "      <td>0.709433</td>\n",
              "      <td>0.800000</td>\n",
              "      <td>1</td>\n",
              "      <td>0.016290</td>\n",
              "      <td>0.204678</td>\n",
              "      <td>0.409357</td>\n",
              "      <td>...</td>\n",
              "      <td>1</td>\n",
              "      <td>0</td>\n",
              "      <td>0</td>\n",
              "      <td>1</td>\n",
              "      <td>0</td>\n",
              "      <td>0</td>\n",
              "      <td>0</td>\n",
              "      <td>0</td>\n",
              "      <td>1</td>\n",
              "      <td>0</td>\n",
              "    </tr>\n",
              "    <tr>\n",
              "      <th>1</th>\n",
              "      <td>1.400436</td>\n",
              "      <td>0.610522</td>\n",
              "      <td>0.667146</td>\n",
              "      <td>0.930870</td>\n",
              "      <td>0.709433</td>\n",
              "      <td>0.800000</td>\n",
              "      <td>1</td>\n",
              "      <td>0.024623</td>\n",
              "      <td>0.216374</td>\n",
              "      <td>0.409357</td>\n",
              "      <td>...</td>\n",
              "      <td>1</td>\n",
              "      <td>0</td>\n",
              "      <td>0</td>\n",
              "      <td>1</td>\n",
              "      <td>0</td>\n",
              "      <td>0</td>\n",
              "      <td>0</td>\n",
              "      <td>0</td>\n",
              "      <td>1</td>\n",
              "      <td>0</td>\n",
              "    </tr>\n",
              "    <tr>\n",
              "      <th>2</th>\n",
              "      <td>0.728882</td>\n",
              "      <td>0.524062</td>\n",
              "      <td>1.365898</td>\n",
              "      <td>0.885873</td>\n",
              "      <td>1.463205</td>\n",
              "      <td>0.767442</td>\n",
              "      <td>0</td>\n",
              "      <td>0.004357</td>\n",
              "      <td>0.089888</td>\n",
              "      <td>0.101124</td>\n",
              "      <td>...</td>\n",
              "      <td>0</td>\n",
              "      <td>0</td>\n",
              "      <td>0</td>\n",
              "      <td>1</td>\n",
              "      <td>0</td>\n",
              "      <td>0</td>\n",
              "      <td>0</td>\n",
              "      <td>0</td>\n",
              "      <td>1</td>\n",
              "      <td>0</td>\n",
              "    </tr>\n",
              "    <tr>\n",
              "      <th>3</th>\n",
              "      <td>5.000000</td>\n",
              "      <td>5.000000</td>\n",
              "      <td>0.298977</td>\n",
              "      <td>0.764192</td>\n",
              "      <td>0.354716</td>\n",
              "      <td>0.800000</td>\n",
              "      <td>0</td>\n",
              "      <td>0.003798</td>\n",
              "      <td>0.314147</td>\n",
              "      <td>0.328710</td>\n",
              "      <td>...</td>\n",
              "      <td>0</td>\n",
              "      <td>0</td>\n",
              "      <td>1</td>\n",
              "      <td>1</td>\n",
              "      <td>0</td>\n",
              "      <td>0</td>\n",
              "      <td>0</td>\n",
              "      <td>0</td>\n",
              "      <td>1</td>\n",
              "      <td>0</td>\n",
              "    </tr>\n",
              "    <tr>\n",
              "      <th>4</th>\n",
              "      <td>0.614226</td>\n",
              "      <td>0.389327</td>\n",
              "      <td>0.699606</td>\n",
              "      <td>0.917133</td>\n",
              "      <td>1.108489</td>\n",
              "      <td>0.862069</td>\n",
              "      <td>1</td>\n",
              "      <td>0.024571</td>\n",
              "      <td>0.253333</td>\n",
              "      <td>0.560000</td>\n",
              "      <td>...</td>\n",
              "      <td>1</td>\n",
              "      <td>0</td>\n",
              "      <td>0</td>\n",
              "      <td>1</td>\n",
              "      <td>0</td>\n",
              "      <td>0</td>\n",
              "      <td>0</td>\n",
              "      <td>0</td>\n",
              "      <td>1</td>\n",
              "      <td>0</td>\n",
              "    </tr>\n",
              "  </tbody>\n",
              "</table>\n",
              "<p>5 rows × 30 columns</p>\n",
              "</div>\n",
              "      <button class=\"colab-df-convert\" onclick=\"convertToInteractive('df-1b95b5fa-3429-4d39-9bac-8054824c2292')\"\n",
              "              title=\"Convert this dataframe to an interactive table.\"\n",
              "              style=\"display:none;\">\n",
              "        \n",
              "  <svg xmlns=\"http://www.w3.org/2000/svg\" height=\"24px\"viewBox=\"0 0 24 24\"\n",
              "       width=\"24px\">\n",
              "    <path d=\"M0 0h24v24H0V0z\" fill=\"none\"/>\n",
              "    <path d=\"M18.56 5.44l.94 2.06.94-2.06 2.06-.94-2.06-.94-.94-2.06-.94 2.06-2.06.94zm-11 1L8.5 8.5l.94-2.06 2.06-.94-2.06-.94L8.5 2.5l-.94 2.06-2.06.94zm10 10l.94 2.06.94-2.06 2.06-.94-2.06-.94-.94-2.06-.94 2.06-2.06.94z\"/><path d=\"M17.41 7.96l-1.37-1.37c-.4-.4-.92-.59-1.43-.59-.52 0-1.04.2-1.43.59L10.3 9.45l-7.72 7.72c-.78.78-.78 2.05 0 2.83L4 21.41c.39.39.9.59 1.41.59.51 0 1.02-.2 1.41-.59l7.78-7.78 2.81-2.81c.8-.78.8-2.07 0-2.86zM5.41 20L4 18.59l7.72-7.72 1.47 1.35L5.41 20z\"/>\n",
              "  </svg>\n",
              "      </button>\n",
              "      \n",
              "  <style>\n",
              "    .colab-df-container {\n",
              "      display:flex;\n",
              "      flex-wrap:wrap;\n",
              "      gap: 12px;\n",
              "    }\n",
              "\n",
              "    .colab-df-convert {\n",
              "      background-color: #E8F0FE;\n",
              "      border: none;\n",
              "      border-radius: 50%;\n",
              "      cursor: pointer;\n",
              "      display: none;\n",
              "      fill: #1967D2;\n",
              "      height: 32px;\n",
              "      padding: 0 0 0 0;\n",
              "      width: 32px;\n",
              "    }\n",
              "\n",
              "    .colab-df-convert:hover {\n",
              "      background-color: #E2EBFA;\n",
              "      box-shadow: 0px 1px 2px rgba(60, 64, 67, 0.3), 0px 1px 3px 1px rgba(60, 64, 67, 0.15);\n",
              "      fill: #174EA6;\n",
              "    }\n",
              "\n",
              "    [theme=dark] .colab-df-convert {\n",
              "      background-color: #3B4455;\n",
              "      fill: #D2E3FC;\n",
              "    }\n",
              "\n",
              "    [theme=dark] .colab-df-convert:hover {\n",
              "      background-color: #434B5C;\n",
              "      box-shadow: 0px 1px 3px 1px rgba(0, 0, 0, 0.15);\n",
              "      filter: drop-shadow(0px 1px 2px rgba(0, 0, 0, 0.3));\n",
              "      fill: #FFFFFF;\n",
              "    }\n",
              "  </style>\n",
              "\n",
              "      <script>\n",
              "        const buttonEl =\n",
              "          document.querySelector('#df-1b95b5fa-3429-4d39-9bac-8054824c2292 button.colab-df-convert');\n",
              "        buttonEl.style.display =\n",
              "          google.colab.kernel.accessAllowed ? 'block' : 'none';\n",
              "\n",
              "        async function convertToInteractive(key) {\n",
              "          const element = document.querySelector('#df-1b95b5fa-3429-4d39-9bac-8054824c2292');\n",
              "          const dataTable =\n",
              "            await google.colab.kernel.invokeFunction('convertToInteractive',\n",
              "                                                     [key], {});\n",
              "          if (!dataTable) return;\n",
              "\n",
              "          const docLinkHtml = 'Like what you see? Visit the ' +\n",
              "            '<a target=\"_blank\" href=https://colab.research.google.com/notebooks/data_table.ipynb>data table notebook</a>'\n",
              "            + ' to learn more about interactive tables.';\n",
              "          element.innerHTML = '';\n",
              "          dataTable['output_type'] = 'display_data';\n",
              "          await google.colab.output.renderOutput(dataTable, element);\n",
              "          const docLink = document.createElement('div');\n",
              "          docLink.innerHTML = docLinkHtml;\n",
              "          element.appendChild(docLink);\n",
              "        }\n",
              "      </script>\n",
              "    </div>\n",
              "  </div>\n",
              "  "
            ]
          },
          "metadata": {},
          "execution_count": 15
        }
      ],
      "source": [
        "train_df = pd.concat([train_df, pd.get_dummies(train_df[['QT', 'PRS']])], axis = 1)\n",
        "train_df = train_df.drop(['QT', 'PRS'], axis=1)\n",
        "train_df.head()"
      ],
      "id": "UKT0USMklO5T"
    },
    {
      "cell_type": "code",
      "execution_count": 16,
      "metadata": {
        "execution": {
          "iopub.execute_input": "2022-08-07T07:50:55.190730Z",
          "iopub.status.busy": "2022-08-07T07:50:55.190406Z",
          "iopub.status.idle": "2022-08-07T07:50:55.216299Z",
          "shell.execute_reply": "2022-08-07T07:50:55.215361Z"
        },
        "papermill": {
          "duration": 0.043417,
          "end_time": "2022-08-07T07:50:55.218559",
          "exception": false,
          "start_time": "2022-08-07T07:50:55.175142",
          "status": "completed"
        },
        "tags": [],
        "id": "9ertNtCzlO5T",
        "outputId": "a3009a07-c4a0-47d5-9c9b-5254d158ece5",
        "colab": {
          "base_uri": "https://localhost:8080/",
          "height": 300
        }
      },
      "outputs": [
        {
          "output_type": "execute_result",
          "data": {
            "text/plain": [
              "       GRCA       CCA        JD       ODD        JS       ODS  SL      NDTD  \\\n",
              "0  0.065517  0.041589  1.614476  1.000000  1.773582  0.975610   1  0.008326   \n",
              "1  2.710786  1.658815  0.927683  0.836028  0.665093  0.681818   1  0.013590   \n",
              "2  3.365960  1.514607  1.546139  0.961232  1.418866  0.888889   1  0.008322   \n",
              "3  2.342250  1.277346  0.990041  1.000000  0.842451  0.950000   1  0.007728   \n",
              "4  0.139225  0.054502  1.575182  0.817376  2.571694  0.773333   1  0.024999   \n",
              "\n",
              "       CURP      GROP  ...  CL_1  CL_2  CL_3  QT_GN  QT_PQ  QT_RL  \\\n",
              "0  0.375000  0.625000  ...     0     0     1      1      0      0   \n",
              "1  0.299094  0.368580  ...     1     0     0      1      0      0   \n",
              "2  0.493917  0.688564  ...     1     0     0      1      0      0   \n",
              "3  0.440559  0.695804  ...     1     0     0      1      0      0   \n",
              "4  0.411765  1.176471  ...     0     1     0      1      0      0   \n",
              "\n",
              "   PRS_Chennai  PRS_Kolkata  PRS_Mumbai  PRS_New_Delhi  \n",
              "0            0            0           1              0  \n",
              "1            0            0           1              0  \n",
              "2            0            0           1              0  \n",
              "3            0            0           1              0  \n",
              "4            0            0           1              0  \n",
              "\n",
              "[5 rows x 29 columns]"
            ],
            "text/html": [
              "\n",
              "  <div id=\"df-b8e6a2c6-4af7-4471-bec6-d8cad1f9e06e\">\n",
              "    <div class=\"colab-df-container\">\n",
              "      <div>\n",
              "<style scoped>\n",
              "    .dataframe tbody tr th:only-of-type {\n",
              "        vertical-align: middle;\n",
              "    }\n",
              "\n",
              "    .dataframe tbody tr th {\n",
              "        vertical-align: top;\n",
              "    }\n",
              "\n",
              "    .dataframe thead th {\n",
              "        text-align: right;\n",
              "    }\n",
              "</style>\n",
              "<table border=\"1\" class=\"dataframe\">\n",
              "  <thead>\n",
              "    <tr style=\"text-align: right;\">\n",
              "      <th></th>\n",
              "      <th>GRCA</th>\n",
              "      <th>CCA</th>\n",
              "      <th>JD</th>\n",
              "      <th>ODD</th>\n",
              "      <th>JS</th>\n",
              "      <th>ODS</th>\n",
              "      <th>SL</th>\n",
              "      <th>NDTD</th>\n",
              "      <th>CURP</th>\n",
              "      <th>GROP</th>\n",
              "      <th>...</th>\n",
              "      <th>CL_1</th>\n",
              "      <th>CL_2</th>\n",
              "      <th>CL_3</th>\n",
              "      <th>QT_GN</th>\n",
              "      <th>QT_PQ</th>\n",
              "      <th>QT_RL</th>\n",
              "      <th>PRS_Chennai</th>\n",
              "      <th>PRS_Kolkata</th>\n",
              "      <th>PRS_Mumbai</th>\n",
              "      <th>PRS_New_Delhi</th>\n",
              "    </tr>\n",
              "  </thead>\n",
              "  <tbody>\n",
              "    <tr>\n",
              "      <th>0</th>\n",
              "      <td>0.065517</td>\n",
              "      <td>0.041589</td>\n",
              "      <td>1.614476</td>\n",
              "      <td>1.000000</td>\n",
              "      <td>1.773582</td>\n",
              "      <td>0.975610</td>\n",
              "      <td>1</td>\n",
              "      <td>0.008326</td>\n",
              "      <td>0.375000</td>\n",
              "      <td>0.625000</td>\n",
              "      <td>...</td>\n",
              "      <td>0</td>\n",
              "      <td>0</td>\n",
              "      <td>1</td>\n",
              "      <td>1</td>\n",
              "      <td>0</td>\n",
              "      <td>0</td>\n",
              "      <td>0</td>\n",
              "      <td>0</td>\n",
              "      <td>1</td>\n",
              "      <td>0</td>\n",
              "    </tr>\n",
              "    <tr>\n",
              "      <th>1</th>\n",
              "      <td>2.710786</td>\n",
              "      <td>1.658815</td>\n",
              "      <td>0.927683</td>\n",
              "      <td>0.836028</td>\n",
              "      <td>0.665093</td>\n",
              "      <td>0.681818</td>\n",
              "      <td>1</td>\n",
              "      <td>0.013590</td>\n",
              "      <td>0.299094</td>\n",
              "      <td>0.368580</td>\n",
              "      <td>...</td>\n",
              "      <td>1</td>\n",
              "      <td>0</td>\n",
              "      <td>0</td>\n",
              "      <td>1</td>\n",
              "      <td>0</td>\n",
              "      <td>0</td>\n",
              "      <td>0</td>\n",
              "      <td>0</td>\n",
              "      <td>1</td>\n",
              "      <td>0</td>\n",
              "    </tr>\n",
              "    <tr>\n",
              "      <th>2</th>\n",
              "      <td>3.365960</td>\n",
              "      <td>1.514607</td>\n",
              "      <td>1.546139</td>\n",
              "      <td>0.961232</td>\n",
              "      <td>1.418866</td>\n",
              "      <td>0.888889</td>\n",
              "      <td>1</td>\n",
              "      <td>0.008322</td>\n",
              "      <td>0.493917</td>\n",
              "      <td>0.688564</td>\n",
              "      <td>...</td>\n",
              "      <td>1</td>\n",
              "      <td>0</td>\n",
              "      <td>0</td>\n",
              "      <td>1</td>\n",
              "      <td>0</td>\n",
              "      <td>0</td>\n",
              "      <td>0</td>\n",
              "      <td>0</td>\n",
              "      <td>1</td>\n",
              "      <td>0</td>\n",
              "    </tr>\n",
              "    <tr>\n",
              "      <th>3</th>\n",
              "      <td>2.342250</td>\n",
              "      <td>1.277346</td>\n",
              "      <td>0.990041</td>\n",
              "      <td>1.000000</td>\n",
              "      <td>0.842451</td>\n",
              "      <td>0.950000</td>\n",
              "      <td>1</td>\n",
              "      <td>0.007728</td>\n",
              "      <td>0.440559</td>\n",
              "      <td>0.695804</td>\n",
              "      <td>...</td>\n",
              "      <td>1</td>\n",
              "      <td>0</td>\n",
              "      <td>0</td>\n",
              "      <td>1</td>\n",
              "      <td>0</td>\n",
              "      <td>0</td>\n",
              "      <td>0</td>\n",
              "      <td>0</td>\n",
              "      <td>1</td>\n",
              "      <td>0</td>\n",
              "    </tr>\n",
              "    <tr>\n",
              "      <th>4</th>\n",
              "      <td>0.139225</td>\n",
              "      <td>0.054502</td>\n",
              "      <td>1.575182</td>\n",
              "      <td>0.817376</td>\n",
              "      <td>2.571694</td>\n",
              "      <td>0.773333</td>\n",
              "      <td>1</td>\n",
              "      <td>0.024999</td>\n",
              "      <td>0.411765</td>\n",
              "      <td>1.176471</td>\n",
              "      <td>...</td>\n",
              "      <td>0</td>\n",
              "      <td>1</td>\n",
              "      <td>0</td>\n",
              "      <td>1</td>\n",
              "      <td>0</td>\n",
              "      <td>0</td>\n",
              "      <td>0</td>\n",
              "      <td>0</td>\n",
              "      <td>1</td>\n",
              "      <td>0</td>\n",
              "    </tr>\n",
              "  </tbody>\n",
              "</table>\n",
              "<p>5 rows × 29 columns</p>\n",
              "</div>\n",
              "      <button class=\"colab-df-convert\" onclick=\"convertToInteractive('df-b8e6a2c6-4af7-4471-bec6-d8cad1f9e06e')\"\n",
              "              title=\"Convert this dataframe to an interactive table.\"\n",
              "              style=\"display:none;\">\n",
              "        \n",
              "  <svg xmlns=\"http://www.w3.org/2000/svg\" height=\"24px\"viewBox=\"0 0 24 24\"\n",
              "       width=\"24px\">\n",
              "    <path d=\"M0 0h24v24H0V0z\" fill=\"none\"/>\n",
              "    <path d=\"M18.56 5.44l.94 2.06.94-2.06 2.06-.94-2.06-.94-.94-2.06-.94 2.06-2.06.94zm-11 1L8.5 8.5l.94-2.06 2.06-.94-2.06-.94L8.5 2.5l-.94 2.06-2.06.94zm10 10l.94 2.06.94-2.06 2.06-.94-2.06-.94-.94-2.06-.94 2.06-2.06.94z\"/><path d=\"M17.41 7.96l-1.37-1.37c-.4-.4-.92-.59-1.43-.59-.52 0-1.04.2-1.43.59L10.3 9.45l-7.72 7.72c-.78.78-.78 2.05 0 2.83L4 21.41c.39.39.9.59 1.41.59.51 0 1.02-.2 1.41-.59l7.78-7.78 2.81-2.81c.8-.78.8-2.07 0-2.86zM5.41 20L4 18.59l7.72-7.72 1.47 1.35L5.41 20z\"/>\n",
              "  </svg>\n",
              "      </button>\n",
              "      \n",
              "  <style>\n",
              "    .colab-df-container {\n",
              "      display:flex;\n",
              "      flex-wrap:wrap;\n",
              "      gap: 12px;\n",
              "    }\n",
              "\n",
              "    .colab-df-convert {\n",
              "      background-color: #E8F0FE;\n",
              "      border: none;\n",
              "      border-radius: 50%;\n",
              "      cursor: pointer;\n",
              "      display: none;\n",
              "      fill: #1967D2;\n",
              "      height: 32px;\n",
              "      padding: 0 0 0 0;\n",
              "      width: 32px;\n",
              "    }\n",
              "\n",
              "    .colab-df-convert:hover {\n",
              "      background-color: #E2EBFA;\n",
              "      box-shadow: 0px 1px 2px rgba(60, 64, 67, 0.3), 0px 1px 3px 1px rgba(60, 64, 67, 0.15);\n",
              "      fill: #174EA6;\n",
              "    }\n",
              "\n",
              "    [theme=dark] .colab-df-convert {\n",
              "      background-color: #3B4455;\n",
              "      fill: #D2E3FC;\n",
              "    }\n",
              "\n",
              "    [theme=dark] .colab-df-convert:hover {\n",
              "      background-color: #434B5C;\n",
              "      box-shadow: 0px 1px 3px 1px rgba(0, 0, 0, 0.15);\n",
              "      filter: drop-shadow(0px 1px 2px rgba(0, 0, 0, 0.3));\n",
              "      fill: #FFFFFF;\n",
              "    }\n",
              "  </style>\n",
              "\n",
              "      <script>\n",
              "        const buttonEl =\n",
              "          document.querySelector('#df-b8e6a2c6-4af7-4471-bec6-d8cad1f9e06e button.colab-df-convert');\n",
              "        buttonEl.style.display =\n",
              "          google.colab.kernel.accessAllowed ? 'block' : 'none';\n",
              "\n",
              "        async function convertToInteractive(key) {\n",
              "          const element = document.querySelector('#df-b8e6a2c6-4af7-4471-bec6-d8cad1f9e06e');\n",
              "          const dataTable =\n",
              "            await google.colab.kernel.invokeFunction('convertToInteractive',\n",
              "                                                     [key], {});\n",
              "          if (!dataTable) return;\n",
              "\n",
              "          const docLinkHtml = 'Like what you see? Visit the ' +\n",
              "            '<a target=\"_blank\" href=https://colab.research.google.com/notebooks/data_table.ipynb>data table notebook</a>'\n",
              "            + ' to learn more about interactive tables.';\n",
              "          element.innerHTML = '';\n",
              "          dataTable['output_type'] = 'display_data';\n",
              "          await google.colab.output.renderOutput(dataTable, element);\n",
              "          const docLink = document.createElement('div');\n",
              "          docLink.innerHTML = docLinkHtml;\n",
              "          element.appendChild(docLink);\n",
              "        }\n",
              "      </script>\n",
              "    </div>\n",
              "  </div>\n",
              "  "
            ]
          },
          "metadata": {},
          "execution_count": 16
        }
      ],
      "source": [
        "test_df = pd.concat([test_df, pd.get_dummies(test_df[['QT', 'PRS']])], axis = 1)\n",
        "test_df = test_df.drop(['QT', 'PRS'], axis=1)\n",
        "test_df.head()"
      ],
      "id": "9ertNtCzlO5T"
    },
    {
      "cell_type": "markdown",
      "metadata": {
        "papermill": {
          "duration": 0.014258,
          "end_time": "2022-08-07T07:50:55.247568",
          "exception": false,
          "start_time": "2022-08-07T07:50:55.233310",
          "status": "completed"
        },
        "tags": [],
        "id": "IlFueP0HlO5T"
      },
      "source": [
        "# **Building Prediction Model**"
      ],
      "id": "IlFueP0HlO5T"
    },
    {
      "cell_type": "markdown",
      "metadata": {
        "papermill": {
          "duration": 0.014078,
          "end_time": "2022-08-07T07:50:55.275932",
          "exception": false,
          "start_time": "2022-08-07T07:50:55.261854",
          "status": "completed"
        },
        "tags": [],
        "id": "Vp-vZEHSlO5T"
      },
      "source": [
        "## Train Test Split"
      ],
      "id": "Vp-vZEHSlO5T"
    },
    {
      "cell_type": "code",
      "execution_count": 17,
      "metadata": {
        "execution": {
          "iopub.execute_input": "2022-08-07T07:50:55.306436Z",
          "iopub.status.busy": "2022-08-07T07:50:55.306156Z",
          "iopub.status.idle": "2022-08-07T07:50:55.324269Z",
          "shell.execute_reply": "2022-08-07T07:50:55.323008Z"
        },
        "papermill": {
          "duration": 0.035664,
          "end_time": "2022-08-07T07:50:55.326127",
          "exception": false,
          "start_time": "2022-08-07T07:50:55.290463",
          "status": "completed"
        },
        "tags": [],
        "id": "RH53y7ySlO5U",
        "outputId": "6f21ee0d-df41-4fe7-de69-935a4f404553",
        "colab": {
          "base_uri": "https://localhost:8080/"
        }
      },
      "outputs": [
        {
          "output_type": "stream",
          "name": "stdout",
          "text": [
            "(27579, 29) (9193, 29) (27579,) (9193,)\n",
            "(3847, 29)\n"
          ]
        }
      ],
      "source": [
        "X = train_df.drop(['target'], axis=1)\n",
        "y = train_df['target']\n",
        "\n",
        "X_train, X_val, y_train, y_val = train_test_split(X, y, test_size=0.25, random_state=1)\n",
        "print(X_train.shape,X_val.shape,y_train.shape,y_val.shape)\n",
        "\n",
        "X_test = test_df.copy()\n",
        "print(X_test.shape)"
      ],
      "id": "RH53y7ySlO5U"
    },
    {
      "cell_type": "markdown",
      "metadata": {
        "papermill": {
          "duration": 0.015298,
          "end_time": "2022-08-07T07:50:55.356021",
          "exception": false,
          "start_time": "2022-08-07T07:50:55.340723",
          "status": "completed"
        },
        "tags": [],
        "id": "iHsQ3RpjlO5U"
      },
      "source": [
        "## Feature Scaling"
      ],
      "id": "iHsQ3RpjlO5U"
    },
    {
      "cell_type": "code",
      "execution_count": 18,
      "metadata": {
        "execution": {
          "iopub.execute_input": "2022-08-07T07:50:55.387754Z",
          "iopub.status.busy": "2022-08-07T07:50:55.386703Z",
          "iopub.status.idle": "2022-08-07T07:50:55.428384Z",
          "shell.execute_reply": "2022-08-07T07:50:55.427475Z"
        },
        "papermill": {
          "duration": 0.059631,
          "end_time": "2022-08-07T07:50:55.430336",
          "exception": false,
          "start_time": "2022-08-07T07:50:55.370705",
          "status": "completed"
        },
        "tags": [],
        "id": "U6A-bUfIlO5U"
      },
      "outputs": [],
      "source": [
        "scaler = preprocessing.RobustScaler().fit(X_train)\n",
        "X_train = scaler.transform(X_train)\n",
        "X_val = scaler.transform(X_val)"
      ],
      "id": "U6A-bUfIlO5U"
    },
    {
      "cell_type": "code",
      "execution_count": 19,
      "metadata": {
        "execution": {
          "iopub.execute_input": "2022-08-07T07:50:55.461803Z",
          "iopub.status.busy": "2022-08-07T07:50:55.461436Z",
          "iopub.status.idle": "2022-08-07T07:50:55.468133Z",
          "shell.execute_reply": "2022-08-07T07:50:55.467301Z"
        },
        "papermill": {
          "duration": 0.024065,
          "end_time": "2022-08-07T07:50:55.469752",
          "exception": false,
          "start_time": "2022-08-07T07:50:55.445687",
          "status": "completed"
        },
        "tags": [],
        "id": "nyBpCmOOlO5U"
      },
      "outputs": [],
      "source": [
        "X_test = scaler.transform(X_test)"
      ],
      "id": "nyBpCmOOlO5U"
    },
    {
      "cell_type": "markdown",
      "metadata": {
        "papermill": {
          "duration": 0.014405,
          "end_time": "2022-08-07T07:50:55.498853",
          "exception": false,
          "start_time": "2022-08-07T07:50:55.484448",
          "status": "completed"
        },
        "tags": [],
        "id": "ohF9FnailO5U"
      },
      "source": [
        "## Classification Models"
      ],
      "id": "ohF9FnailO5U"
    },
    {
      "cell_type": "markdown",
      "metadata": {
        "papermill": {
          "duration": 0.014449,
          "end_time": "2022-08-07T07:50:55.527770",
          "exception": false,
          "start_time": "2022-08-07T07:50:55.513321",
          "status": "completed"
        },
        "tags": [],
        "id": "Kx8IGcdPlO5U"
      },
      "source": [
        "### Baseline"
      ],
      "id": "Kx8IGcdPlO5U"
    },
    {
      "cell_type": "markdown",
      "metadata": {
        "papermill": {
          "duration": 0.014002,
          "end_time": "2022-08-07T07:50:55.556405",
          "exception": false,
          "start_time": "2022-08-07T07:50:55.542403",
          "status": "completed"
        },
        "tags": [],
        "id": "-eVHcj4ulO5X"
      },
      "source": [
        "Defining functions to print accuracy scores, confusion matrices and classification reports."
      ],
      "id": "-eVHcj4ulO5X"
    },
    {
      "cell_type": "code",
      "execution_count": 20,
      "metadata": {
        "execution": {
          "iopub.execute_input": "2022-08-07T07:50:55.586754Z",
          "iopub.status.busy": "2022-08-07T07:50:55.585574Z",
          "iopub.status.idle": "2022-08-07T07:50:55.590730Z",
          "shell.execute_reply": "2022-08-07T07:50:55.590195Z"
        },
        "papermill": {
          "duration": 0.02165,
          "end_time": "2022-08-07T07:50:55.592175",
          "exception": false,
          "start_time": "2022-08-07T07:50:55.570525",
          "status": "completed"
        },
        "tags": [],
        "id": "BBUTNh82lO5X"
      },
      "outputs": [],
      "source": [
        "def model_accuracy(clf_object, val_x, val_y):\n",
        "    score = clf_object.score(val_x, val_y)\n",
        "    print(f'Accuracy is {round(score*100,2)}%')\n",
        "    \n",
        "def clf_report(model_name, val_y, pred_y):\n",
        "    print(f'{model_name} Classification Report: \\n ------------------------------------------')\n",
        "    print()\n",
        "    print(classification_report(val_y, pred_y, target_names=['0', '1']))"
      ],
      "id": "BBUTNh82lO5X"
    },
    {
      "cell_type": "markdown",
      "metadata": {
        "_kg_hide-input": true,
        "papermill": {
          "duration": 0.014027,
          "end_time": "2022-08-07T07:50:55.620615",
          "exception": false,
          "start_time": "2022-08-07T07:50:55.606588",
          "status": "completed"
        },
        "tags": [],
        "id": "obJuiejMlO5X"
      },
      "source": [
        "#### *Logistic Regression*"
      ],
      "id": "obJuiejMlO5X"
    },
    {
      "cell_type": "code",
      "execution_count": null,
      "metadata": {
        "_kg_hide-input": true,
        "execution": {
          "iopub.execute_input": "2022-08-07T07:50:55.651635Z",
          "iopub.status.busy": "2022-08-07T07:50:55.650460Z",
          "iopub.status.idle": "2022-08-07T07:50:55.654888Z",
          "shell.execute_reply": "2022-08-07T07:50:55.654324Z"
        },
        "papermill": {
          "duration": 0.021524,
          "end_time": "2022-08-07T07:50:55.656502",
          "exception": false,
          "start_time": "2022-08-07T07:50:55.634978",
          "status": "completed"
        },
        "tags": [],
        "id": "mKkKin3VlO5X"
      },
      "outputs": [],
      "source": [
        "# lr = LogisticRegression(max_iter = 7500)\n",
        "# lr.fit(X_train, y_train)\n",
        "\n",
        "# model_accuracy(lr, X_val, y_val)"
      ],
      "id": "mKkKin3VlO5X"
    },
    {
      "cell_type": "markdown",
      "metadata": {
        "_kg_hide-input": true,
        "papermill": {
          "duration": 0.014711,
          "end_time": "2022-08-07T07:50:55.686535",
          "exception": false,
          "start_time": "2022-08-07T07:50:55.671824",
          "status": "completed"
        },
        "tags": [],
        "id": "HnQP2bkwlO5X"
      },
      "source": [
        "#### *SVM*"
      ],
      "id": "HnQP2bkwlO5X"
    },
    {
      "cell_type": "code",
      "execution_count": null,
      "metadata": {
        "_kg_hide-input": true,
        "execution": {
          "iopub.execute_input": "2022-08-07T07:50:55.718184Z",
          "iopub.status.busy": "2022-08-07T07:50:55.717735Z",
          "iopub.status.idle": "2022-08-07T07:50:55.720560Z",
          "shell.execute_reply": "2022-08-07T07:50:55.719987Z"
        },
        "papermill": {
          "duration": 0.020826,
          "end_time": "2022-08-07T07:50:55.722589",
          "exception": false,
          "start_time": "2022-08-07T07:50:55.701763",
          "status": "completed"
        },
        "tags": [],
        "id": "0povQMCxlO5X"
      },
      "outputs": [],
      "source": [
        "# svc = SVC(probability = True)\n",
        "# svc.fit(X_train, y_train)\n",
        "\n",
        "# model_accuracy(svc, X_val, y_val)"
      ],
      "id": "0povQMCxlO5X"
    },
    {
      "cell_type": "markdown",
      "metadata": {
        "papermill": {
          "duration": 0.014787,
          "end_time": "2022-08-07T07:50:55.752440",
          "exception": false,
          "start_time": "2022-08-07T07:50:55.737653",
          "status": "completed"
        },
        "tags": [],
        "id": "2mSe1ymNlO5X"
      },
      "source": [
        "#### *Random Forest*"
      ],
      "id": "2mSe1ymNlO5X"
    },
    {
      "cell_type": "code",
      "execution_count": 21,
      "metadata": {
        "execution": {
          "iopub.execute_input": "2022-08-07T07:50:55.783677Z",
          "iopub.status.busy": "2022-08-07T07:50:55.783232Z",
          "iopub.status.idle": "2022-08-07T07:51:04.026212Z",
          "shell.execute_reply": "2022-08-07T07:51:04.024754Z"
        },
        "papermill": {
          "duration": 8.261804,
          "end_time": "2022-08-07T07:51:04.029119",
          "exception": false,
          "start_time": "2022-08-07T07:50:55.767315",
          "status": "completed"
        },
        "tags": [],
        "id": "PM-byn6ElO5X",
        "outputId": "474c8902-5df9-4463-c1d9-2c414c6030f4",
        "colab": {
          "base_uri": "https://localhost:8080/"
        }
      },
      "outputs": [
        {
          "output_type": "stream",
          "name": "stdout",
          "text": [
            "Accuracy is 92.06%\n"
          ]
        }
      ],
      "source": [
        "rf = RandomForestClassifier()\n",
        "rf.fit(X_train, y_train)\n",
        "\n",
        "model_accuracy(rf, X_val, y_val)"
      ],
      "id": "PM-byn6ElO5X"
    },
    {
      "cell_type": "markdown",
      "metadata": {
        "execution": {
          "iopub.execute_input": "2022-08-07T03:22:30.665112Z",
          "iopub.status.busy": "2022-08-07T03:22:30.664637Z",
          "iopub.status.idle": "2022-08-07T03:22:30.673334Z",
          "shell.execute_reply": "2022-08-07T03:22:30.672009Z",
          "shell.execute_reply.started": "2022-08-07T03:22:30.665069Z"
        },
        "papermill": {
          "duration": 0.015846,
          "end_time": "2022-08-07T07:51:04.060428",
          "exception": false,
          "start_time": "2022-08-07T07:51:04.044582",
          "status": "completed"
        },
        "tags": [],
        "id": "kweau5DRlO5Y"
      },
      "source": [
        "#### *XGBoost*"
      ],
      "id": "kweau5DRlO5Y"
    },
    {
      "cell_type": "code",
      "execution_count": 22,
      "metadata": {
        "execution": {
          "iopub.execute_input": "2022-08-07T07:51:04.092869Z",
          "iopub.status.busy": "2022-08-07T07:51:04.092568Z",
          "iopub.status.idle": "2022-08-07T07:51:07.365075Z",
          "shell.execute_reply": "2022-08-07T07:51:07.361761Z"
        },
        "papermill": {
          "duration": 3.296274,
          "end_time": "2022-08-07T07:51:07.372273",
          "exception": false,
          "start_time": "2022-08-07T07:51:04.075999",
          "status": "completed"
        },
        "tags": [],
        "id": "HIb3wnW-lO5Y",
        "outputId": "ae0d44c0-8254-4a91-ff9a-147ca81086bf",
        "colab": {
          "base_uri": "https://localhost:8080/"
        }
      },
      "outputs": [
        {
          "output_type": "stream",
          "name": "stdout",
          "text": [
            "Accuracy is 80.65%\n"
          ]
        }
      ],
      "source": [
        "xgb = XGBClassifier(random_state =1)\n",
        "xgb.fit(X_train, y_train)\n",
        "\n",
        "model_accuracy(xgb, X_val, y_val)"
      ],
      "id": "HIb3wnW-lO5Y"
    },
    {
      "cell_type": "markdown",
      "metadata": {
        "papermill": {
          "duration": 0.016966,
          "end_time": "2022-08-07T07:51:07.409248",
          "exception": false,
          "start_time": "2022-08-07T07:51:07.392282",
          "status": "completed"
        },
        "tags": [],
        "id": "sYGSeQfulO5Y"
      },
      "source": [
        "### Hyper-parameter tuning"
      ],
      "id": "sYGSeQfulO5Y"
    },
    {
      "cell_type": "markdown",
      "metadata": {
        "papermill": {
          "duration": 0.014424,
          "end_time": "2022-08-07T07:51:07.438291",
          "exception": false,
          "start_time": "2022-08-07T07:51:07.423867",
          "status": "completed"
        },
        "tags": [],
        "id": "AU3a8ZZglO5Y"
      },
      "source": [
        "Defining a function to print best parameters and score"
      ],
      "id": "AU3a8ZZglO5Y"
    },
    {
      "cell_type": "code",
      "execution_count": 23,
      "metadata": {
        "execution": {
          "iopub.execute_input": "2022-08-07T07:51:07.468895Z",
          "iopub.status.busy": "2022-08-07T07:51:07.468566Z",
          "iopub.status.idle": "2022-08-07T07:51:07.473780Z",
          "shell.execute_reply": "2022-08-07T07:51:07.472870Z"
        },
        "papermill": {
          "duration": 0.022578,
          "end_time": "2022-08-07T07:51:07.475585",
          "exception": false,
          "start_time": "2022-08-07T07:51:07.453007",
          "status": "completed"
        },
        "tags": [],
        "id": "oht29moGlO5Y"
      },
      "outputs": [],
      "source": [
        "def model_performance(clf_object, model_name, val_x, val_y):\n",
        "    print(model_name)\n",
        "    print(f'Best Score: {clf_object.best_estimator_.score(val_x, val_y)}')\n",
        "    print(f'Best Parameters: {clf_object.best_params_}')"
      ],
      "id": "oht29moGlO5Y"
    },
    {
      "cell_type": "markdown",
      "metadata": {
        "_kg_hide-input": true,
        "papermill": {
          "duration": 0.014362,
          "end_time": "2022-08-07T07:51:07.504923",
          "exception": false,
          "start_time": "2022-08-07T07:51:07.490561",
          "status": "completed"
        },
        "tags": [],
        "id": "RbZbRXgwlO5Y"
      },
      "source": [
        "#### *Logistic Regression*"
      ],
      "id": "RbZbRXgwlO5Y"
    },
    {
      "cell_type": "code",
      "execution_count": null,
      "metadata": {
        "_kg_hide-input": true,
        "execution": {
          "iopub.execute_input": "2022-08-07T07:51:07.535458Z",
          "iopub.status.busy": "2022-08-07T07:51:07.534921Z",
          "iopub.status.idle": "2022-08-07T07:51:07.538596Z",
          "shell.execute_reply": "2022-08-07T07:51:07.538029Z"
        },
        "papermill": {
          "duration": 0.020855,
          "end_time": "2022-08-07T07:51:07.540296",
          "exception": false,
          "start_time": "2022-08-07T07:51:07.519441",
          "status": "completed"
        },
        "tags": [],
        "id": "qC3_YYzdlO5Z"
      },
      "outputs": [],
      "source": [
        "# # Grid search to find best paramters\n",
        "\n",
        "# lr = LogisticRegression()\n",
        "# param_grid = {\n",
        "#     'penalty' : ['l1', 'l2', 'elasticnet'],\n",
        "#     'C' : np.logspace(-4, 4, 20),\n",
        "#     'solver' : ['lbfgs','newton-cg','liblinear','sag','saga'],\n",
        "#     'max_iter' : [7500,10000]\n",
        "# }\n",
        "\n",
        "# lr_grid = GridSearchCV(lr, param_grid = param_grid, cv = 4, verbose = True, n_jobs = -1)\n",
        "# lr_grid.fit(X_train,y_train)\n",
        "\n",
        "# model_performance(lr_grid,'Logistic Regression', X_val, y_val)"
      ],
      "id": "qC3_YYzdlO5Z"
    },
    {
      "cell_type": "code",
      "execution_count": null,
      "metadata": {
        "_kg_hide-input": true,
        "execution": {
          "iopub.execute_input": "2022-08-07T07:51:07.570793Z",
          "iopub.status.busy": "2022-08-07T07:51:07.570474Z",
          "iopub.status.idle": "2022-08-07T07:51:07.573937Z",
          "shell.execute_reply": "2022-08-07T07:51:07.572883Z"
        },
        "papermill": {
          "duration": 0.020481,
          "end_time": "2022-08-07T07:51:07.575354",
          "exception": false,
          "start_time": "2022-08-07T07:51:07.554873",
          "status": "completed"
        },
        "tags": [],
        "id": "cxG9CoY7lO5Z"
      },
      "outputs": [],
      "source": [
        "# y_pred_proba = lr_grid.best_estimator_.predict_proba(X_val)\n",
        "# log_loss = log_loss(y_val, y_pred_proba)\n",
        "# print(\"Log Loss:\", log_loss)"
      ],
      "id": "cxG9CoY7lO5Z"
    },
    {
      "cell_type": "markdown",
      "metadata": {
        "_kg_hide-input": true,
        "papermill": {
          "duration": 0.014162,
          "end_time": "2022-08-07T07:51:07.604067",
          "exception": false,
          "start_time": "2022-08-07T07:51:07.589905",
          "status": "completed"
        },
        "tags": [],
        "id": "sT30e8nalO5Z"
      },
      "source": [
        "#### *SVM*"
      ],
      "id": "sT30e8nalO5Z"
    },
    {
      "cell_type": "code",
      "execution_count": null,
      "metadata": {
        "_kg_hide-input": true,
        "execution": {
          "iopub.execute_input": "2022-08-07T07:51:07.634983Z",
          "iopub.status.busy": "2022-08-07T07:51:07.634125Z",
          "iopub.status.idle": "2022-08-07T07:51:07.638619Z",
          "shell.execute_reply": "2022-08-07T07:51:07.637872Z"
        },
        "papermill": {
          "duration": 0.021604,
          "end_time": "2022-08-07T07:51:07.640168",
          "exception": false,
          "start_time": "2022-08-07T07:51:07.618564",
          "status": "completed"
        },
        "tags": [],
        "id": "j51d-ZJclO5Z"
      },
      "outputs": [],
      "source": [
        "# # Grid search to find best paramters\n",
        "\n",
        "# svc = SVC(probability = True)\n",
        "# param_grid = [{'kernel': ['rbf'], 'gamma': [.1,.5,1,2,5,10],\n",
        "#                                   'C': [.1, 1, 10, 100, 1000]},\n",
        "#                                  {'kernel': ['linear'], 'C': [.1, 1, 10, 100, 1000]},\n",
        "#                                  {'kernel': ['poly'], 'degree' : [2,3,4,5], 'C': [.1, 1, 10, 100, 1000]}]\n",
        "# svc_grid = GridSearchCV(svc, param_grid = param_grid, cv = 4, verbose = True, n_jobs = -1)\n",
        "# svc_grid.fit(X_train,y_train)\n",
        "\n",
        "# model_performance(svc_grid,'SVM', X_val, y_val)"
      ],
      "id": "j51d-ZJclO5Z"
    },
    {
      "cell_type": "code",
      "execution_count": null,
      "metadata": {
        "_kg_hide-input": true,
        "execution": {
          "iopub.execute_input": "2022-08-07T07:51:07.670583Z",
          "iopub.status.busy": "2022-08-07T07:51:07.670250Z",
          "iopub.status.idle": "2022-08-07T07:51:07.674055Z",
          "shell.execute_reply": "2022-08-07T07:51:07.673408Z"
        },
        "papermill": {
          "duration": 0.020753,
          "end_time": "2022-08-07T07:51:07.675621",
          "exception": false,
          "start_time": "2022-08-07T07:51:07.654868",
          "status": "completed"
        },
        "tags": [],
        "id": "svIZ0bH7lO5Z"
      },
      "outputs": [],
      "source": [
        "# y_pred = svc_grid.best_estimator_.predict(X_val)\n",
        "# clf_report('Tuned SVM', y_val, y_pred)"
      ],
      "id": "svIZ0bH7lO5Z"
    },
    {
      "cell_type": "markdown",
      "metadata": {
        "papermill": {
          "duration": 0.01459,
          "end_time": "2022-08-07T07:51:07.705134",
          "exception": false,
          "start_time": "2022-08-07T07:51:07.690544",
          "status": "completed"
        },
        "tags": [],
        "id": "jdSvjinElO5Z"
      },
      "source": [
        "#### *Random Forest*"
      ],
      "id": "jdSvjinElO5Z"
    },
    {
      "cell_type": "code",
      "execution_count": null,
      "metadata": {
        "execution": {
          "iopub.execute_input": "2022-08-07T07:51:07.736394Z",
          "iopub.status.busy": "2022-08-07T07:51:07.735595Z",
          "iopub.status.idle": "2022-08-07T07:51:07.739386Z",
          "shell.execute_reply": "2022-08-07T07:51:07.738768Z"
        },
        "papermill": {
          "duration": 0.02087,
          "end_time": "2022-08-07T07:51:07.740800",
          "exception": false,
          "start_time": "2022-08-07T07:51:07.719930",
          "status": "completed"
        },
        "tags": [],
        "id": "6ESJmsF7lO5a"
      },
      "outputs": [],
      "source": [
        "# # Randomized search to narrow down the paramters\n",
        "\n",
        "\n",
        "# param_grid =  {\n",
        "#     'n_estimators': [100,300,600,900,1200,1400,1600,1800],\n",
        "#     'criterion' : ['gini', 'entropy'],\n",
        "#     'bootstrap': [True,False],\n",
        "#     'max_depth': [4,10,14,18,20,24,28,30,34,38,40,None]\n",
        "#     'max_features': ['auto','sqrt',10],\n",
        "#     'min_samples_leaf': [1,2,3],\n",
        "#     'min_samples_split': [2,3,4]\n",
        "# }\n",
        "                                  \n",
        "# rf_rnd = RandomizedSearchCV(rf, param_distributions = param_grid, n_iter = 100, cv = 5, verbose = True, n_jobs = -1)\n",
        "# rf_rnd.fit(X_train,y_train)\n",
        "# model_performance(rf_rnd,'Random Forest', X_val, y_val)"
      ],
      "id": "6ESJmsF7lO5a"
    },
    {
      "cell_type": "code",
      "execution_count": null,
      "metadata": {
        "execution": {
          "iopub.execute_input": "2022-08-07T07:51:07.772125Z",
          "iopub.status.busy": "2022-08-07T07:51:07.771855Z",
          "iopub.status.idle": "2022-08-07T07:55:52.818855Z",
          "shell.execute_reply": "2022-08-07T07:55:52.817532Z"
        },
        "papermill": {
          "duration": 285.065281,
          "end_time": "2022-08-07T07:55:52.821264",
          "exception": false,
          "start_time": "2022-08-07T07:51:07.755983",
          "status": "completed"
        },
        "tags": [],
        "id": "J5rYjjp5lO5a",
        "outputId": "d1e0b371-71c2-4a05-8775-c9a6568daa78"
      },
      "outputs": [
        {
          "name": "stdout",
          "output_type": "stream",
          "text": [
            "Fitting 4 folds for each of 1 candidates, totalling 4 fits\n",
            "Random Forest\n",
            "Best Score: 0.9246165560752747\n",
            "Best Parameters: {'bootstrap': True, 'criterion': 'entropy', 'max_depth': 34, 'max_features': 'sqrt', 'min_samples_leaf': 1, 'min_samples_split': 2, 'n_estimators': 1558}\n"
          ]
        }
      ],
      "source": [
        "# # Grid search to find best paramters\n",
        "\n",
        "# param_grid =  {\n",
        "#     'criterion' : ['entropy'],\n",
        "#     'n_estimators': [1558], \n",
        "#     'bootstrap': [True],\n",
        "#     'max_depth': [34],\n",
        "#     'max_features': ['sqrt'],\n",
        "#     'min_samples_leaf': [1],\n",
        "#     'min_samples_split': [2],\n",
        "    \n",
        "# }\n",
        "                                  \n",
        "# rf_grid = GridSearchCV(rf, param_grid = param_grid, cv = 4, verbose = 2, n_jobs = -1)\n",
        "# rf_grid.fit(X_train,y_train)\n",
        "\n",
        "# model_performance(rf_grid,'Random Forest', X_val, y_val)"
      ],
      "id": "J5rYjjp5lO5a"
    },
    {
      "cell_type": "code",
      "execution_count": null,
      "metadata": {
        "execution": {
          "iopub.execute_input": "2022-08-07T07:55:52.854621Z",
          "iopub.status.busy": "2022-08-07T07:55:52.854133Z",
          "iopub.status.idle": "2022-08-07T07:55:55.606969Z",
          "shell.execute_reply": "2022-08-07T07:55:55.606276Z"
        },
        "papermill": {
          "duration": 2.771852,
          "end_time": "2022-08-07T07:55:55.609082",
          "exception": false,
          "start_time": "2022-08-07T07:55:52.837230",
          "status": "completed"
        },
        "tags": [],
        "id": "2WjO-DiJlO5a",
        "outputId": "0a90ede1-2f1f-4f79-ddf2-c164fccab06a"
      },
      "outputs": [
        {
          "name": "stdout",
          "output_type": "stream",
          "text": [
            "Tuned Random Forest Classification Report: \n",
            " ------------------------------------------\n",
            "\n",
            "              precision    recall  f1-score   support\n",
            "\n",
            "           0       0.92      0.97      0.95      6314\n",
            "           1       0.93      0.82      0.87      2879\n",
            "\n",
            "    accuracy                           0.92      9193\n",
            "   macro avg       0.93      0.90      0.91      9193\n",
            "weighted avg       0.92      0.92      0.92      9193\n",
            "\n"
          ]
        }
      ],
      "source": [
        "# y_pred = rf_grid.best_estimator_.predict(X_val)\n",
        "# clf_report('Tuned Random Forest', y_val, y_pred)"
      ],
      "id": "2WjO-DiJlO5a"
    },
    {
      "cell_type": "markdown",
      "metadata": {
        "execution": {
          "iopub.execute_input": "2022-08-07T03:22:30.665112Z",
          "iopub.status.busy": "2022-08-07T03:22:30.664637Z",
          "iopub.status.idle": "2022-08-07T03:22:30.673334Z",
          "shell.execute_reply": "2022-08-07T03:22:30.672009Z",
          "shell.execute_reply.started": "2022-08-07T03:22:30.665069Z"
        },
        "papermill": {
          "duration": 0.020239,
          "end_time": "2022-08-07T07:55:55.653075",
          "exception": false,
          "start_time": "2022-08-07T07:55:55.632836",
          "status": "completed"
        },
        "tags": [],
        "id": "DfeTrnsNlO5a"
      },
      "source": [
        "#### *XGBoost*"
      ],
      "id": "DfeTrnsNlO5a"
    },
    {
      "cell_type": "code",
      "execution_count": null,
      "metadata": {
        "_kg_hide-input": false,
        "_kg_hide-output": true,
        "execution": {
          "iopub.execute_input": "2022-08-07T07:55:55.694430Z",
          "iopub.status.busy": "2022-08-07T07:55:55.693885Z",
          "iopub.status.idle": "2022-08-07T07:55:55.698329Z",
          "shell.execute_reply": "2022-08-07T07:55:55.697698Z"
        },
        "papermill": {
          "duration": 0.029085,
          "end_time": "2022-08-07T07:55:55.700306",
          "exception": false,
          "start_time": "2022-08-07T07:55:55.671221",
          "status": "completed"
        },
        "tags": [],
        "id": "Px4EHD-6lO5a"
      },
      "outputs": [],
      "source": [
        "# # Randomized search to narrow down the paramters\n",
        "\n",
        "# xgb = XGBClassifier(random_state = 1)\n",
        "\n",
        "# param_grid = {\n",
        "#     'n_estimators': [20, 50, 100, 250, 500,1000],\n",
        "#     'colsample_bytree': [0.2, 0.5, 0.7, 0.8, 1],\n",
        "#     'max_depth': [2, 5, 10, 15, 20, 25, None],\n",
        "#     'reg_alpha': [0, 0.5, 1],\n",
        "#     'reg_lambda': [1, 1.5, 2],\n",
        "#     'subsample': [0.5,0.6,0.7, 0.8, 0.9],\n",
        "#     'learning_rate':[.01,0.1,0.2,0.3,0.5, 0.7, 0.9],\n",
        "#     'gamma':[0,.01,.1,1,10,100],\n",
        "#     'min_child_weight':[0,.01,0.1,1,10,100],\n",
        "#     'sampling_method': ['uniform', 'gradient_based']\n",
        "# }\n",
        "\n",
        "# xgb_rnd = RandomizedSearchCV(xgb, param_distributions = param_grid, n_iter = 100, cv = 4, verbose = 2, n_jobs = -1)\n",
        "# xgb_rnd.fit(X_train,y_train)\n",
        "\n",
        "# model_performance(xgb_rnd,'XGBoost', X_val, y_val)"
      ],
      "id": "Px4EHD-6lO5a"
    },
    {
      "cell_type": "code",
      "execution_count": null,
      "metadata": {
        "execution": {
          "iopub.execute_input": "2022-08-07T07:55:55.733443Z",
          "iopub.status.busy": "2022-08-07T07:55:55.733173Z",
          "iopub.status.idle": "2022-08-07T07:55:55.737036Z",
          "shell.execute_reply": "2022-08-07T07:55:55.736154Z"
        },
        "papermill": {
          "duration": 0.022515,
          "end_time": "2022-08-07T07:55:55.738801",
          "exception": false,
          "start_time": "2022-08-07T07:55:55.716286",
          "status": "completed"
        },
        "tags": [],
        "id": "3AzRd21IlO5a"
      },
      "outputs": [],
      "source": [
        "# # Grid search to find best paramters\n",
        "\n",
        "# xgb = XGBClassifier(random_state = 1)\n",
        "\n",
        "# param_grid = {\n",
        "#     'n_estimators': [1000, 1300, 1600, 1800],\n",
        "#     'colsample_bytree': [0.8, 1],\n",
        "#     'max_depth': [25, 30, 35],\n",
        "#     'reg_alpha': [0],\n",
        "#     'reg_lambda': [2],\n",
        "#     'subsample': [0.9],\n",
        "#     'learning_rate':[0.7, 0.8],\n",
        "#     'gamma':[0],\n",
        "#     'min_child_weight':[0.1],\n",
        "#     'sampling_method': ['uniform', 'gradient_based']\n",
        "# }\n",
        "\n",
        "# xgb_grid = GridSearchCV(xgb, param_grid = param_grid, cv = 4, verbose = 2, n_jobs = -1)\n",
        "# xgb_grid.fit(X_train,y_train)\n",
        "\n",
        "# model_performance(xgb_grid,'XGBoost', X_val, y_val)"
      ],
      "id": "3AzRd21IlO5a"
    },
    {
      "cell_type": "code",
      "execution_count": 24,
      "metadata": {
        "execution": {
          "iopub.execute_input": "2022-08-07T07:55:55.771144Z",
          "iopub.status.busy": "2022-08-07T07:55:55.770879Z",
          "iopub.status.idle": "2022-08-07T08:01:50.561635Z",
          "shell.execute_reply": "2022-08-07T08:01:50.560183Z"
        },
        "papermill": {
          "duration": 354.810359,
          "end_time": "2022-08-07T08:01:50.564602",
          "exception": false,
          "start_time": "2022-08-07T07:55:55.754243",
          "status": "completed"
        },
        "tags": [],
        "id": "LALmrTSIlO5b",
        "outputId": "5ec0c1a2-66d7-421e-8c44-a7eb15d6f5e6",
        "colab": {
          "base_uri": "https://localhost:8080/"
        }
      },
      "outputs": [
        {
          "output_type": "stream",
          "name": "stdout",
          "text": [
            "Fitting 5 folds for each of 1 candidates, totalling 5 fits\n",
            "XGBoost\n",
            "Best Score: 0.9345153921461982\n",
            "Best Parameters: {'colsample_bytree': 0.8, 'gamma': 0, 'learning_rate': 0.8, 'max_depth': 30, 'min_child_weight': 0.1, 'n_estimators': 1600, 'reg_alpha': 0, 'reg_lambda': 2, 'sampling_method': 'uniform', 'subsample': 0.9}\n"
          ]
        }
      ],
      "source": [
        "# Grid search to find best paramters\n",
        "\n",
        "xgb = XGBClassifier(random_state = 1)\n",
        "\n",
        "param_grid = {\n",
        "    'n_estimators': [1600],\n",
        "    'colsample_bytree': [0.8],\n",
        "    'max_depth': [30],\n",
        "    'reg_alpha': [0],\n",
        "    'reg_lambda': [2],\n",
        "    'subsample': [0.9],\n",
        "    'learning_rate':[0.8],\n",
        "    'gamma':[0],\n",
        "    'min_child_weight':[0.1],\n",
        "    'sampling_method': ['uniform']\n",
        "}\n",
        "\n",
        "xgb_grid = GridSearchCV(xgb, param_grid = param_grid, cv = 5, verbose = 2, n_jobs = -1)\n",
        "xgb_grid.fit(X_train,y_train)\n",
        "\n",
        "model_performance(xgb_grid,'XGBoost', X_val, y_val)"
      ],
      "id": "LALmrTSIlO5b"
    },
    {
      "cell_type": "code",
      "execution_count": 25,
      "metadata": {
        "execution": {
          "iopub.execute_input": "2022-08-07T08:01:50.597458Z",
          "iopub.status.busy": "2022-08-07T08:01:50.597139Z",
          "iopub.status.idle": "2022-08-07T08:01:50.899141Z",
          "shell.execute_reply": "2022-08-07T08:01:50.897521Z"
        },
        "papermill": {
          "duration": 0.321542,
          "end_time": "2022-08-07T08:01:50.902260",
          "exception": false,
          "start_time": "2022-08-07T08:01:50.580718",
          "status": "completed"
        },
        "tags": [],
        "id": "EHiq_r6blO5b",
        "outputId": "89a6bf2f-c53a-456a-d2e7-d85004b8dd9b",
        "colab": {
          "base_uri": "https://localhost:8080/"
        }
      },
      "outputs": [
        {
          "output_type": "stream",
          "name": "stdout",
          "text": [
            "Tuned XGBoost Classification Report: \n",
            " ------------------------------------------\n",
            "\n",
            "              precision    recall  f1-score   support\n",
            "\n",
            "           0       0.94      0.96      0.95      6314\n",
            "           1       0.92      0.87      0.89      2879\n",
            "\n",
            "    accuracy                           0.93      9193\n",
            "   macro avg       0.93      0.92      0.92      9193\n",
            "weighted avg       0.93      0.93      0.93      9193\n",
            "\n"
          ]
        }
      ],
      "source": [
        "y_pred = xgb_grid.best_estimator_.predict(X_val)\n",
        "clf_report('Tuned XGBoost', y_val, y_pred)"
      ],
      "id": "EHiq_r6blO5b"
    },
    {
      "cell_type": "markdown",
      "metadata": {
        "papermill": {
          "duration": 0.015752,
          "end_time": "2022-08-07T08:01:50.934759",
          "exception": false,
          "start_time": "2022-08-07T08:01:50.919007",
          "status": "completed"
        },
        "tags": [],
        "id": "TImHr7LIlO5b"
      },
      "source": [
        "# **Submission**"
      ],
      "id": "TImHr7LIlO5b"
    },
    {
      "cell_type": "code",
      "execution_count": 32,
      "metadata": {
        "execution": {
          "iopub.execute_input": "2022-08-07T08:01:50.968360Z",
          "iopub.status.busy": "2022-08-07T08:01:50.968059Z",
          "iopub.status.idle": "2022-08-07T08:01:51.122107Z",
          "shell.execute_reply": "2022-08-07T08:01:51.120896Z"
        },
        "papermill": {
          "duration": 0.172991,
          "end_time": "2022-08-07T08:01:51.123959",
          "exception": false,
          "start_time": "2022-08-07T08:01:50.950968",
          "status": "completed"
        },
        "tags": [],
        "id": "6SsXaMnolO5b"
      },
      "outputs": [],
      "source": [
        "final_pred_proba = xgb_grid.best_estimator_.predict_proba(X_test)\n",
        "\n",
        "final_df = pd.DataFrame()\n",
        "final_df['pk'] = pd.read_csv(\"Railofy_testing_data_for_model.csv\")['pk']"
      ],
      "id": "6SsXaMnolO5b"
    },
    {
      "cell_type": "code",
      "source": [
        "final_df['target'] = final_pred_proba[:,1]\n",
        "final_df.head()"
      ],
      "metadata": {
        "id": "QAARgKRerZ0p",
        "outputId": "5aac9447-d07f-4a3f-a8b8-1f5fe8d3678d",
        "colab": {
          "base_uri": "https://localhost:8080/",
          "height": 206
        }
      },
      "id": "QAARgKRerZ0p",
      "execution_count": 33,
      "outputs": [
        {
          "output_type": "execute_result",
          "data": {
            "text/plain": [
              "           pk    target\n",
              "0  8831606085  0.017421\n",
              "1  8831561565  0.000051\n",
              "2  8831539811  0.848222\n",
              "3  8831313791  0.020525\n",
              "4  8831070109  0.014954"
            ],
            "text/html": [
              "\n",
              "  <div id=\"df-aa514301-782f-47bb-b3f1-a8766024ea2b\">\n",
              "    <div class=\"colab-df-container\">\n",
              "      <div>\n",
              "<style scoped>\n",
              "    .dataframe tbody tr th:only-of-type {\n",
              "        vertical-align: middle;\n",
              "    }\n",
              "\n",
              "    .dataframe tbody tr th {\n",
              "        vertical-align: top;\n",
              "    }\n",
              "\n",
              "    .dataframe thead th {\n",
              "        text-align: right;\n",
              "    }\n",
              "</style>\n",
              "<table border=\"1\" class=\"dataframe\">\n",
              "  <thead>\n",
              "    <tr style=\"text-align: right;\">\n",
              "      <th></th>\n",
              "      <th>pk</th>\n",
              "      <th>target</th>\n",
              "    </tr>\n",
              "  </thead>\n",
              "  <tbody>\n",
              "    <tr>\n",
              "      <th>0</th>\n",
              "      <td>8831606085</td>\n",
              "      <td>0.017421</td>\n",
              "    </tr>\n",
              "    <tr>\n",
              "      <th>1</th>\n",
              "      <td>8831561565</td>\n",
              "      <td>0.000051</td>\n",
              "    </tr>\n",
              "    <tr>\n",
              "      <th>2</th>\n",
              "      <td>8831539811</td>\n",
              "      <td>0.848222</td>\n",
              "    </tr>\n",
              "    <tr>\n",
              "      <th>3</th>\n",
              "      <td>8831313791</td>\n",
              "      <td>0.020525</td>\n",
              "    </tr>\n",
              "    <tr>\n",
              "      <th>4</th>\n",
              "      <td>8831070109</td>\n",
              "      <td>0.014954</td>\n",
              "    </tr>\n",
              "  </tbody>\n",
              "</table>\n",
              "</div>\n",
              "      <button class=\"colab-df-convert\" onclick=\"convertToInteractive('df-aa514301-782f-47bb-b3f1-a8766024ea2b')\"\n",
              "              title=\"Convert this dataframe to an interactive table.\"\n",
              "              style=\"display:none;\">\n",
              "        \n",
              "  <svg xmlns=\"http://www.w3.org/2000/svg\" height=\"24px\"viewBox=\"0 0 24 24\"\n",
              "       width=\"24px\">\n",
              "    <path d=\"M0 0h24v24H0V0z\" fill=\"none\"/>\n",
              "    <path d=\"M18.56 5.44l.94 2.06.94-2.06 2.06-.94-2.06-.94-.94-2.06-.94 2.06-2.06.94zm-11 1L8.5 8.5l.94-2.06 2.06-.94-2.06-.94L8.5 2.5l-.94 2.06-2.06.94zm10 10l.94 2.06.94-2.06 2.06-.94-2.06-.94-.94-2.06-.94 2.06-2.06.94z\"/><path d=\"M17.41 7.96l-1.37-1.37c-.4-.4-.92-.59-1.43-.59-.52 0-1.04.2-1.43.59L10.3 9.45l-7.72 7.72c-.78.78-.78 2.05 0 2.83L4 21.41c.39.39.9.59 1.41.59.51 0 1.02-.2 1.41-.59l7.78-7.78 2.81-2.81c.8-.78.8-2.07 0-2.86zM5.41 20L4 18.59l7.72-7.72 1.47 1.35L5.41 20z\"/>\n",
              "  </svg>\n",
              "      </button>\n",
              "      \n",
              "  <style>\n",
              "    .colab-df-container {\n",
              "      display:flex;\n",
              "      flex-wrap:wrap;\n",
              "      gap: 12px;\n",
              "    }\n",
              "\n",
              "    .colab-df-convert {\n",
              "      background-color: #E8F0FE;\n",
              "      border: none;\n",
              "      border-radius: 50%;\n",
              "      cursor: pointer;\n",
              "      display: none;\n",
              "      fill: #1967D2;\n",
              "      height: 32px;\n",
              "      padding: 0 0 0 0;\n",
              "      width: 32px;\n",
              "    }\n",
              "\n",
              "    .colab-df-convert:hover {\n",
              "      background-color: #E2EBFA;\n",
              "      box-shadow: 0px 1px 2px rgba(60, 64, 67, 0.3), 0px 1px 3px 1px rgba(60, 64, 67, 0.15);\n",
              "      fill: #174EA6;\n",
              "    }\n",
              "\n",
              "    [theme=dark] .colab-df-convert {\n",
              "      background-color: #3B4455;\n",
              "      fill: #D2E3FC;\n",
              "    }\n",
              "\n",
              "    [theme=dark] .colab-df-convert:hover {\n",
              "      background-color: #434B5C;\n",
              "      box-shadow: 0px 1px 3px 1px rgba(0, 0, 0, 0.15);\n",
              "      filter: drop-shadow(0px 1px 2px rgba(0, 0, 0, 0.3));\n",
              "      fill: #FFFFFF;\n",
              "    }\n",
              "  </style>\n",
              "\n",
              "      <script>\n",
              "        const buttonEl =\n",
              "          document.querySelector('#df-aa514301-782f-47bb-b3f1-a8766024ea2b button.colab-df-convert');\n",
              "        buttonEl.style.display =\n",
              "          google.colab.kernel.accessAllowed ? 'block' : 'none';\n",
              "\n",
              "        async function convertToInteractive(key) {\n",
              "          const element = document.querySelector('#df-aa514301-782f-47bb-b3f1-a8766024ea2b');\n",
              "          const dataTable =\n",
              "            await google.colab.kernel.invokeFunction('convertToInteractive',\n",
              "                                                     [key], {});\n",
              "          if (!dataTable) return;\n",
              "\n",
              "          const docLinkHtml = 'Like what you see? Visit the ' +\n",
              "            '<a target=\"_blank\" href=https://colab.research.google.com/notebooks/data_table.ipynb>data table notebook</a>'\n",
              "            + ' to learn more about interactive tables.';\n",
              "          element.innerHTML = '';\n",
              "          dataTable['output_type'] = 'display_data';\n",
              "          await google.colab.output.renderOutput(dataTable, element);\n",
              "          const docLink = document.createElement('div');\n",
              "          docLink.innerHTML = docLinkHtml;\n",
              "          element.appendChild(docLink);\n",
              "        }\n",
              "      </script>\n",
              "    </div>\n",
              "  </div>\n",
              "  "
            ]
          },
          "metadata": {},
          "execution_count": 33
        }
      ]
    },
    {
      "cell_type": "code",
      "execution_count": 34,
      "metadata": {
        "execution": {
          "iopub.execute_input": "2022-08-07T08:01:51.156990Z",
          "iopub.status.busy": "2022-08-07T08:01:51.156699Z",
          "iopub.status.idle": "2022-08-07T08:01:51.167663Z",
          "shell.execute_reply": "2022-08-07T08:01:51.166861Z"
        },
        "papermill": {
          "duration": 0.02974,
          "end_time": "2022-08-07T08:01:51.169532",
          "exception": false,
          "start_time": "2022-08-07T08:01:51.139792",
          "status": "completed"
        },
        "tags": [],
        "id": "FcwpFpbflO5b"
      },
      "outputs": [],
      "source": [
        "final_df.to_csv(\"submission.csv\", index=False)"
      ],
      "id": "FcwpFpbflO5b"
    },
    {
      "cell_type": "code",
      "source": [
        "!kaggle competitions submit -c  railofy-challenge -m \"xgb model auc\" -f \"submission.csv\""
      ],
      "metadata": {
        "id": "xfkXeWPmqZ45",
        "outputId": "44051b29-feb6-42a9-a52d-f3f92f9f4083",
        "colab": {
          "base_uri": "https://localhost:8080/"
        }
      },
      "id": "xfkXeWPmqZ45",
      "execution_count": 37,
      "outputs": [
        {
          "output_type": "stream",
          "name": "stdout",
          "text": [
            "100% 86.8k/86.8k [00:00<00:00, 216kB/s]\n",
            "Successfully submitted to Indian Railways Challenge"
          ]
        }
      ]
    }
  ],
  "metadata": {
    "kernelspec": {
      "display_name": "Python 3",
      "language": "python",
      "name": "python3"
    },
    "language_info": {
      "codemirror_mode": {
        "name": "ipython",
        "version": 3
      },
      "file_extension": ".py",
      "mimetype": "text/x-python",
      "name": "python",
      "nbconvert_exporter": "python",
      "pygments_lexer": "ipython3",
      "version": "3.8.5"
    },
    "papermill": {
      "default_parameters": {},
      "duration": 677.459854,
      "end_time": "2022-08-07T08:01:53.805848",
      "environment_variables": {},
      "exception": null,
      "input_path": "__notebook__.ipynb",
      "output_path": "__notebook__.ipynb",
      "parameters": {},
      "start_time": "2022-08-07T07:50:36.345994",
      "version": "2.3.4"
    },
    "colab": {
      "provenance": [],
      "include_colab_link": true
    }
  },
  "nbformat": 4,
  "nbformat_minor": 5
}